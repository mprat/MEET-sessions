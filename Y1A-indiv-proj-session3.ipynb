{
 "metadata": {
  "name": ""
 },
 "nbformat": 3,
 "nbformat_minor": 0,
 "worksheets": [
  {
   "cells": [
    {
     "cell_type": "markdown",
     "metadata": {},
     "source": [
      "## Make sure to do before the session\n",
      "\n",
      "* Installing nbviewer bookmarklet on the demo laptop"
     ]
    },
    {
     "cell_type": "markdown",
     "metadata": {},
     "source": [
      "## The session\n",
      "\n",
      "* Today is the last day for final projects - due date December 15th\n",
      "* I'm cutting a few corners for you but it's ok. I uploaded for all of you some datasets that you will use for your project. Need to do **git pull** to get the data on your computers\n",
      "\n",
      "\n",
      "* Where do you run ipython notebook from - same folder as your data file\n",
      "* Have a goal in mind - what do you want to show? How do you want to show it? What kind of graph / plot would be most appropriate?\n",
      "* Which kind of plot works best? (line or dot) (plot() or scatter())\n",
      "* What columns of data do I need?\n",
      "\n",
      "\n",
      "* did not make it clear that lab3 is all in the same notebook - it's ok\n",
      "* show them nbviewer (or at least how I will see their notebooks on my computer)\n",
      "* show them an example project?"
     ]
    }
   ],
   "metadata": {}
  }
 ]
}