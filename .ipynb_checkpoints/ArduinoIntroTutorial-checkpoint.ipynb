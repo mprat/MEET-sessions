{
 "metadata": {
  "name": ""
 },
 "nbformat": 3,
 "nbformat_minor": 0,
 "worksheets": [
  {
   "cells": [
    {
     "cell_type": "markdown",
     "metadata": {},
     "source": [
      "# MEET YL2 Individual Project: The Arduino Tutorial <a name=top></a>#\n",
      "\n",
      "## The plan for you, reader of this tutorial ##\n",
      "\n",
      "Your instructions are to work through this tutorial. If you don't understand something, ask each other for help. Only come ask me if something is unclear and no one can figure it out. Of it you think you are doing something that is dangerous to you and / or others. The tutorial takes you through roughly these steps:\n",
      "\n",
      "1. [Read about hardware, Arduinos](#hardware)\n",
      "2. [Play with the Arduino-program-language with some simple programs](#simpleprogram)\n",
      "2. [Play with serial connections to the computer](#serial)\n",
      "3. [Learn how breadboards work](#breadboards)\n",
      "4. [Learn how to attach a button to an Arduino](#button)\n",
      "5. [Plan your individual project](#indivproj)\n",
      "6. Work work work!"
     ]
    },
    {
     "cell_type": "markdown",
     "metadata": {},
     "source": [
      "## What is hardware? Why do we care? (What you CAN DO with hardware) <a name=\"hardware\"></a> ## <a href=\"#top\">(top)</a>\n",
      "\n",
      "* Interact with the physical world - react, make something move, etc.\n",
      "    * User presses buttons, turns dials\n",
      "    * Sensors get information from environment\n",
      "    * Control motors\n",
      "* Run code on tiny computers that can stand alone (without a full computer)\n",
      "\n",
      "## What you WILL DO with hardware ##\n",
      "\n",
      "* We won't control anything - for now we will focus on getting input, either from the user or from the physical world.\n",
      "* To start with, you will work on getting input from the user through a physical external button press. If there is time, you will use some other sensor to get information from the user or the environment in a different way."
     ]
    },
    {
     "cell_type": "markdown",
     "metadata": {},
     "source": [
      "## A bit about hardware in general ##\n",
      "\n",
      "_Hardware_ is a broad term used to describe physical components outside of a computer. This includes electronics, circuits, and chips (the things that make the inside of a computer). Some facts, terms, information:\n",
      "\n",
      "* Hardware is serious business. It is sensitive physical pieces that carry electricity to perform a certain task. Connecting wires the wrong way, putting physical stress on the parts, or making the parts dirty, wet, sticky, etc. is a danger to your physical safety. Please respect the hardware, and make sure to take good care of it, both for it's sake and for your sake.\n",
      "* **microcontroller** - a small computer, usually without a display. Has limited code that it understands, and is often coded for a specific purpose in the physical world away from a computer.\n",
      "* **microprocessor** - another word for a small computer, but one that is more powerful than a microcontroller\n",
      "* Since you can't directly type code onto a microcontroller, you type your code in a computer, then compile and upload it (\"burn\" it) onto the microcontroller. Usually you do this through a USB cable that talks with the microcontroller using a language called **serial communication**. If you tell the microcontroller to talk to the computer, it will do so through the **serial console**.\n",
      "* Another name for the USB port is a **COM port**.\n",
      "\n",
      "Some electronics concepts you will need to learn about hardware:\n",
      "\n",
      "* **Components** are pieces of electrical hardware, like resistors, buttons, and wires\n",
      "* **Digital** vs. **analog** - When something is digital, it has two values it can take, ON (1) or OFF (0). There is no such thing as in-between. When something is analog, it can take any value between ON (1) and OFF (0). Digital inputs and outputs are used for detecting things like button presses and for counting numbers, while analog inputs are used for detecting things like dial or slider position\n",
      "* **Sensors** are electrical components that measure something. They can be temperature sensors, distance sensors, light sensors, sound sensors, etc.\n",
      "* In the world of both digital and analog electronics in microprocessors, the maximum (ON) voltage is usually 5 volts, and this is referred to as **power**. The opposite, or OFF voltage, is 0 volts, and is referred to as **ground**, often abbreviated **GND**. \n",
      "* A **breadboard** is a grid used putting together electrical components. Like this:\n",
      "\n",
      "<figure>\n",
      "<img src=\"files/imgs/bb.jpg\" width=300>\n",
      "</figure>"
     ]
    },
    {
     "cell_type": "markdown",
     "metadata": {},
     "source": [
      "## Arduino: the easiest way to get started ##\n",
      "\n",
      "The best way to get started in getting comfortable with these tools is by using a microcontroller platform that is easy to use and has a lot of tutorials. This is the  [Arduino](http://arduino.cc) platform that we are going to use. \n",
      "\n",
      "<img src=\"files/imgs/arduino-comps.jpg\" width=600>\n",
      "\n",
      "You can see a few labeled parts on the board. Try to find them on your own boards.\n",
      "\n",
      "The cable that connects the Arduino to the computer is a USB cable that connects to a USB port (it is on the back of the laptop) and to the USB connector on the Arduino. Go ahead and do that now. You should see the red \"power\" light be on in the Arduino."
     ]
    },
    {
     "cell_type": "markdown",
     "metadata": {},
     "source": [
      "### What is on the Arduino and what is on the computer ###\n",
      "\n",
      "The workflow is like this: you write code on the computer in an editor, compile it on the computer, and send it to the Arduino (using the serial protocol) through the cable. As soon as this process is complete, the code executes immediately on the Arduino. The Arduino can then talk to the computer (if you tell it to) by printing things to the computer through the **serial console**. The way to \"restart\" a program running on the Arduino is to press the **reset button**. \n",
      "\n",
      "<img src=\"files/imgs/arduino-computer.jpg\" width=600>"
     ]
    },
    {
     "cell_type": "markdown",
     "metadata": {},
     "source": [
      "## How we work with Arduino and the Arduino IDE <a name=\"simpleprogram\"></a> ## <a href=\"#top\">(top)</a>\n",
      "\n",
      "* Coding our Arduino programs on Ubuntu using the Arduino IDE (**IDE** stands for integrated development environment, which basically means a program that gives us a place to write our code)\n",
      "* Arduino uses a special language; it looks like C++, but it reads like Python (and like English). The best way to learn the language is to look at examples and play with the code yourself. So there will not be an explanation of how the code works - you will learn by going through the example code. After you finish coding your program, the way to test it is to upload it to the Arduino and make sure it does what you want it to do. \n",
      "\n",
      "### Opening the Arduino IDE ###\n",
      "\n",
      "It is already installed on the Ubuntu machines. To open it, open the program explorer and start typing \"Arduino\":\n",
      "\n",
      "<img src=\"files/imgs/opening_arduino_program.png\" width=600>\n",
      "\n",
      "It will open a program like this: \n",
      "\n",
      "<img src=\"files/imgs/arduino_program.png\" width=600>\n",
      "\n",
      "The white space is where you will type your code, and the black is where the error messages will be shown."
     ]
    },
    {
     "cell_type": "markdown",
     "metadata": {},
     "source": [
      "### Opening Arduino sample code from the IDE ###\n",
      "\n",
      "One of the awesome things about working with Arduino is the wealth of resources available for Arduino. These include \"official Arduino sample code.\" To open the tutorials, go to \"File\" -> \"Examples\", and then going to the category you want. Each tutorial will tell you which example code to open."
     ]
    },
    {
     "cell_type": "markdown",
     "metadata": {},
     "source": [
      "## Tutorial 1: BLINK ## <a href=\"#top\">(top)</a>\n",
      "\n",
      "Open the \"Blink\" example code from the \"1. Basics\" example code menu. DO NOT attach a resistor and LED to the Arduino - the light on the Arduino board itself is connected to pin 13, so there is no need to risk blowing up our LEDs. Look through the code, with [this tutorial](http://arduino.cc/en/Tutorial/Blink) as a guide. \n",
      "\n",
      "Upload the code to the Arduino using the upload button (the arrow in the white circle at the top of the IDE window): \n",
      "\n",
      "INSERT PICTURE HERE OF HOW TO UPLOAD\n",
      "\n",
      "If you have problems with your code not uploading, check out some [common problems you might have](CommonArduinoProblems.ipynb).\n",
      "\n",
      "Once you are done reading and understanding this code, do the following exercises: \n",
      "\n",
      "1. Change the light to be on for 2 seconds, off for 2 seconds\n",
      "2. Change the light to be on for 3 seconds, off for 1 second\n",
      "\n",
      "You don't need to submit anything for these exercises, but you might want to save a copy of your modified programs in your Github folder. Answer for yourself the following question: What section of code happens once? What section of code continues to happen during execution?"
     ]
    },
    {
     "cell_type": "markdown",
     "metadata": {},
     "source": [
      "## Tutorial 2: Serial communication <a name=\"serial\"></a> ## <a href=\"#top\">(top)</a>"
     ]
    },
    {
     "cell_type": "markdown",
     "metadata": {},
     "source": [
      "Now, let's play with how to send information from the Arduino to the computer's screen over serial. Make a new file and paste this code into it:"
     ]
    },
    {
     "cell_type": "raw",
     "metadata": {},
     "source": [
      "/*\n",
      " * Hello World!\n",
      " *\n",
      " * This is the Hello World! for Arduino. \n",
      " * It shows how to send data to the computer\n",
      " */\n",
      "\n",
      "\n",
      "void setup()                    // run once, when the sketch starts\n",
      "{\n",
      "  Serial.begin(9600);           // set up Serial library at 9600 bps\n",
      "  \n",
      "  Serial.println(\"Hello world!\");  // prints hello with ending line break \n",
      "}\n",
      "\n",
      "void loop()                       // run over and over again\n",
      "{\n",
      "                                  // do nothing!\n",
      "}"
     ]
    },
    {
     "cell_type": "markdown",
     "metadata": {},
     "source": [
      "Notice that there is nothing in the `loop()` method, so everything that happens will happen only once. Upload the code to the Arduino. Nothing happens. This is because you need to open the Serial Monitor (the thing that watches what comes to the computer over the serial port). Here's how:\n",
      "\n",
      "INSERT SOME PICTURES HERE\n",
      "\n",
      "Once you've gotten the code to work (and understand the result), do the following exercises: \n",
      "\n",
      "1. Make the Arduino print \"Hello, World!\" over serial once every second.\n",
      "2. Make the Arduino print \"Hello, World!\" over serial once every second, but only a total of five times.\n",
      "\n",
      "Save your code from exercise 2 in your Github repository."
     ]
    },
    {
     "cell_type": "markdown",
     "metadata": {},
     "source": [
      "## How a breadboard works <a name=\"breadboards\"></a> ## <a href=\"#top\">(top)</a>\n",
      "\n",
      "Remember breadboards? \n",
      "\n",
      "<figure>\n",
      "<img src=\"files/imgs/bb.jpg\" width=300>\n",
      "</figure>\n",
      "\n",
      "\n",
      "An interesting thing about breadboards is that the squares in each row are connected to each other. Horizontal rows are connected: \n",
      "\n",
      "<figure>\n",
      "<img src=\"files/imgs/bb-rows.jpg\" width=300>\n",
      "</figure>\n",
      "\n",
      "And the two vertical rows on either side of the board are connected: \n",
      "\n",
      "<figure>\n",
      "<img src=\"files/imgs/bb-cols.jpg\" width=300>\n",
      "</figure>\n",
      "\n",
      "For example, if I connect a wire from 5V on the Arduino to cell B2, then A2, C2, D2, and E2 are all automatically connected to 5V also.\n",
      "\n",
      "One common way to take advantage of this is to connect one cell in the right column to GROUND (0 volts), then being able to connect any components you need to ground by connecting a wire between the component and the ground column.\n",
      "\n",
      "For example, if you connect a wire from GND on the Arduino to the side column on the breadboard, like this: \n",
      "\n",
      "INSERT PICTURE HERE\n",
      "\n",
      "Then every other square in that column will be connected to GND automatically."
     ]
    },
    {
     "cell_type": "markdown",
     "metadata": {},
     "source": [
      "## Tutorial 3: Buttons <a name=\"button\"></a> ## <a href=\"#top\">(top)</a>\n",
      "\n",
      "Next, open up the DigitalReadSerial, or the Button tutorial. Follow along with [this tutorial](http://arduino.cc/en/Tutorial/DigitalReadSerial) to understand the code. Build the circuit, taking care to connect the appropriate components. Test it to make sure the code works.\n",
      "\n",
      "When you are done, take a picture of your circuit and save it in your Github repository."
     ]
    },
    {
     "cell_type": "markdown",
     "metadata": {},
     "source": [
      "## Your individual project <a name=\"indivproj\"></a> ## <a href=\"#top\">(top)</a>\n",
      "\n",
      "Now that you have seen a few tutorials and hopefully have gotten a button to work on the Arduino, you need to choose a final project to work on.\n",
      "\n",
      "You must choose one of these projects to do as your individual project, but no two people can do the same project. Projects are written in approximate order of difficulty, easier projects at the top. If you come up with a variation of one of these projects, that is fine, just talk to me to get it approved. Two people can work on a variation of the same project.\n",
      "\n",
      "1. A simple switch - print the number 1 to the screen over and over again, until the user presses a button. Then print the number 2 to the screen. Every time the user presses the button, increase the number displayed to the screen by one.\n",
      "2. Ask the user to press the button some number of times. After you don't hear a button press for 2 seconds, use that number to set how fast the LED blinks.\n",
      "3. Make some kind of trivia game: ask the user a question randomly (from a fixed list, not from the internet), and the user must press the button the correct number of times to answer the question.\n",
      "4. Every two seconds, ask the user for a button press 4 times. Keep track of the button presses like this: 1011 (where 1 is a press and 0 is not a press). At the end, convert this number from binary to decimal and print it to the screen.\n",
      "5. Ask the user to press and hold the button. However long the user presses the button, set that to how fast the LED blinks.\n",
      "6. A password detection application - when the user presses the button the correct number of times for the correct length of time, the password is correctly detected and the computer prints \u201csuccess!\u201d on the screen\n",
      "7. A Morse code encoding application - the user can record messages using [Morse code](http://en.wikipedia.org/wiki/Morse_code), which can be printed back to the screen when the user is done"
     ]
    },
    {
     "cell_type": "markdown",
     "metadata": {},
     "source": [
      "Spend some time thinking (and deciding!) on which project you will work on. To see more information on the project description and requirements, look [here](https://docs.google.com/a/meet.mit.edu/document/d/1HzMu8S_8xAyPVDZaA_JOZEW5XLl72B5BL6Jtiv3Hze0/edit#heading=h.kpxwsy50i6vt).\n",
      "\n",
      "If you want to see two more tutorials, here are two that come logically next. Otherwise, start working on your project! But first: \n",
      "\n",
      "1. Draw a diagram of any components you need (remember, PLAN, then DO)\n",
      "1. Draw a diagram of any circuit you need for your project"
     ]
    },
    {
     "cell_type": "markdown",
     "metadata": {},
     "source": [
      "## Tutorial 4: Analog Input (potentiometer) ##\n",
      "\n",
      "A **potentiometer** is an electrical component that is the equivalent of a dial or a knob. Our potentiometers look like this: \n",
      "\n",
      "INSERT PICTURE HERE. \n",
      "\n",
      "Follow [this](http://arduino.cc/en/Tutorial/AnalogReadSerial) tutorial to learn how to use them."
     ]
    },
    {
     "cell_type": "markdown",
     "metadata": {},
     "source": [
      "## Tutorial 5: Blink without delay ##\n",
      "\n",
      "[This](http://arduino.cc/en/Tutorial/BlinkWithoutDelay) tutorial, without actually hooking up the LED."
     ]
    },
    {
     "cell_type": "markdown",
     "metadata": {},
     "source": [
      "## Setting up Arduino for yourself at home ##\n",
      "\n",
      "Really easy on your own computer. Instructions [here](http://arduino.cc). If you want to take one home to work, talk to me first."
     ]
    },
    {
     "cell_type": "markdown",
     "metadata": {},
     "source": [
      "## Resources ##\n",
      "\n",
      "There are a zillion Arduino resources around - there is a lot to look through and it can be daunting. Here is a list of select resources that are worth your time, if you need to find anything:\n",
      "\n",
      "* [The official Arduino tutorials](http://arduino.cc/en/Tutorial/HomePage)\n",
      "* [Arduino in a Nutshell](http://hci.rwth-aachen.de/arduino)\n",
      "* http://www.ladyada.net/learn/arduino/index.html"
     ]
    }
   ],
   "metadata": {}
  }
 ]
}