{
 "metadata": {
  "name": ""
 },
 "nbformat": 3,
 "nbformat_minor": 0,
 "worksheets": [
  {
   "cells": [
    {
     "cell_type": "markdown",
     "metadata": {
      "slideshow": {
       "slide_type": "slide"
      }
     },
     "source": [
      "# Choosing (the right) technologies"
     ]
    },
    {
     "cell_type": "markdown",
     "metadata": {
      "slideshow": {
       "slide_type": "skip"
      }
     },
     "source": [
      "You think you're ready to code? _NOT QUITE_\n",
      "\n",
      "* What will you use?"
     ]
    },
    {
     "cell_type": "markdown",
     "metadata": {
      "slideshow": {
       "slide_type": "slide"
      }
     },
     "source": [
      "## TOOLS, not LANGUAGE"
     ]
    },
    {
     "cell_type": "markdown",
     "metadata": {
      "slideshow": {
       "slide_type": "skip"
      }
     },
     "source": [
      "* Almost no one codes completely from scratch anymore - you always use existing tools / code / packages, so it is not so much the language that is important, but the tools that are important. "
     ]
    },
    {
     "cell_type": "markdown",
     "metadata": {
      "slideshow": {
       "slide_type": "slide"
      }
     },
     "source": [
      "## Choosing technology considerations"
     ]
    },
    {
     "cell_type": "markdown",
     "metadata": {
      "slideshow": {
       "slide_type": "subslide"
      }
     },
     "source": [
      "* What are all of your product requirements?\n",
      "    * _examples include speed, color, changeability_"
     ]
    },
    {
     "cell_type": "markdown",
     "metadata": {
      "slideshow": {
       "slide_type": "subslide"
      }
     },
     "source": [
      "* What is your key feature? \n",
      "    * _based on your target customer segment and product goal_\n",
      "    "
     ]
    },
    {
     "cell_type": "markdown",
     "metadata": {
      "slideshow": {
       "slide_type": "subslide"
      }
     },
     "source": [
      "* What are your project goals?\n",
      "    * Product elements: _vision, mission, problem to solve_\n",
      "    * Team elements: _prototype, deploy, 6-month project, potential startup_\n",
      "    * MUST BE REALISTIC - you cause yourself pain if you are not honest\n",
      "    "
     ]
    },
    {
     "cell_type": "markdown",
     "metadata": {
      "slideshow": {
       "slide_type": "subslide"
      }
     },
     "source": [
      "* What do you know? How can you maintain it? What tools do you have access to?\n",
      "    * General rule of thumb: _good documentation, free tools_\n",
      "    * New startups / tools are less reliable but also more flexible"
     ]
    },
    {
     "cell_type": "markdown",
     "metadata": {
      "slideshow": {
       "slide_type": "slide"
      }
     },
     "source": [
      "## Choosing technology considerations\n",
      "\n",
      "* What are all of your product requirements?\n",
      "* What is your key feature?\n",
      "* What are your project goals?\n",
      "* What do you know? How can you maintain it? What tools do you have access to?"
     ]
    },
    {
     "cell_type": "markdown",
     "metadata": {
      "slideshow": {
       "slide_type": "slide"
      }
     },
     "source": [
      "## In short: YOU and YOUR CUSTOMERS"
     ]
    },
    {
     "cell_type": "markdown",
     "metadata": {
      "slideshow": {
       "slide_type": "slide"
      }
     },
     "source": [
      "## Not limiting, just prioritizing\n",
      "\n",
      "Need to make a prioritized list of features / elements / plan for execution"
     ]
    },
    {
     "cell_type": "markdown",
     "metadata": {
      "slideshow": {
       "slide_type": "slide"
      }
     },
     "source": [
      "## Case study\n",
      "\n",
      "<img src=\"files/imgs/relayrides-logo.jpg\" width=300>"
     ]
    },
    {
     "cell_type": "markdown",
     "metadata": {
      "slideshow": {
       "slide_type": "skip"
      }
     },
     "source": [
      "* What they do is allow users to time-share their cars (decrease pollution, increase utilization of car space)\n",
      "* Website - very simple splash page. Most likely used Twitter Bootstrap\n",
      "* iOS app released later. No Android app yet\n",
      "* Need to keep database of users, cars, locations, etc.\n",
      "* Who are their customers"
     ]
    },
    {
     "cell_type": "markdown",
     "metadata": {
      "slideshow": {
       "slide_type": "slide"
      }
     },
     "source": [
      "## Web technologies, briefly\n",
      "\n",
      "Considerations:\n",
      "\n",
      "* Look (consistent, unique, etc. UI / UX / customers)\n",
      "* Speed (do you need a database?)\n",
      "* Use case (are people going to be using it on mobile?)\n",
      "* Website or splash page?"
     ]
    },
    {
     "cell_type": "markdown",
     "metadata": {
      "slideshow": {
       "slide_type": "slide"
      }
     },
     "source": [
      "### Specific technologies to build websites\n",
      "\n",
      "* Twitter Bootstrap (UI / UX) - you should use this no matter what\n",
      "* Nodejs (backend)\n",
      "* Django (backend)"
     ]
    },
    {
     "cell_type": "markdown",
     "metadata": {
      "slideshow": {
       "slide_type": "slide"
      }
     },
     "source": [
      "## Mobile apps, briefly\n",
      "\n",
      "Considerations: \n",
      "\n",
      "* Types of users (Android or iOS or other)\n",
      "* Which first?"
     ]
    },
    {
     "cell_type": "markdown",
     "metadata": {
      "slideshow": {
       "slide_type": "slide"
      }
     },
     "source": [
      "### Specific mobile app technologies\n",
      "\n",
      "* Android\n",
      "* iOS\n",
      "* Phonegap (both at the same time)\n",
      "* Smaller niche markets (Samsung OS, Blackberry)"
     ]
    },
    {
     "cell_type": "markdown",
     "metadata": {
      "slideshow": {
       "slide_type": "slide"
      }
     },
     "source": [
      "## Your group, now\n",
      "\n",
      "* All of your features. What is your KEY feature. Ordered list of features.\n",
      "* Customer analysis, web or mobile. Which flavor of mobile? Which flavor of web?\n",
      "* Do you need a \"splash page\".\n",
      "* What technologies do you plan on using?"
     ]
    },
    {
     "cell_type": "markdown",
     "metadata": {
      "slideshow": {
       "slide_type": "slide"
      }
     },
     "source": [
      "## Prototyping tool (web-based, cleaner)\n",
      "\n",
      "* Need for A/B testing. Can split up work. Can export as PDF\n",
      "* \"Pencil\" program."
     ]
    }
   ],
   "metadata": {}
  }
 ]
}