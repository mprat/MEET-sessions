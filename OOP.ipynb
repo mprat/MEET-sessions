{
 "metadata": {
  "name": ""
 },
 "nbformat": 3,
 "nbformat_minor": 0,
 "worksheets": [
  {
   "cells": [
    {
     "cell_type": "markdown",
     "metadata": {},
     "source": [
      "# Object-Oriented Programming\n",
      "\n",
      "## Terms\n",
      "\n",
      "* Class\n",
      "* Object\n",
      "* Instance\n",
      "* Subclass\n",
      "* Method / function\n",
      "* Inheritance\n",
      "* Abstraction\n",
      "* Hierarchy\n",
      "* Model\n",
      "* DRY\n",
      "* type"
     ]
    },
    {
     "cell_type": "markdown",
     "metadata": {},
     "source": [
      "## Task\n",
      "\n",
      "NEED SOME EXAMPLE HERE: library with books? sprites in a video game? animals in a zoo? dancers in a troupe?"
     ]
    },
    {
     "cell_type": "markdown",
     "metadata": {},
     "source": [
      "## Context\n",
      "\n",
      "1. Building a car (or any system) is hard, so we break it down into small pieces. \n",
      "2. We don't want to redo previous work (**DRY principle**, or the \"don't repeat yourself\" principle)\n",
      "\n",
      "**Object-oriented programming** (OOP) is a technique to break down problems / systems into smaller pieces and save us time in the process"
     ]
    },
    {
     "cell_type": "markdown",
     "metadata": {},
     "source": [
      "## Definitions\n",
      "\n",
      "* **Class** - a definition or a type. Has variables and methods (it knows things and can do things). \n",
      "* **Subclass**\n",
      "* **Object** - a specific"
     ]
    },
    {
     "cell_type": "markdown",
     "metadata": {},
     "source": [
      "OOP is useful for both implementation and design."
     ]
    },
    {
     "cell_type": "markdown",
     "metadata": {},
     "source": [
      "## Exercise\n",
      "\n",
      "Design a hierarchy of classes to model the hierarchy of the following shapes: square, circle, rectangle, rhombus, semi-circle, triangle, hexagon, octagon. For each class, list the variables in it. "
     ]
    },
    {
     "cell_type": "markdown",
     "metadata": {},
     "source": [
      "DEBRIEF / SOLUTION ON SHAPE EXERCISE\n",
      "\n",
      "DISCUSSION OF ADDING AN \"AREA\" METHOD"
     ]
    },
    {
     "cell_type": "markdown",
     "metadata": {},
     "source": [
      "## Exercise\n",
      "\n",
      "Subclass a Pygame Surface class"
     ]
    }
   ],
   "metadata": {}
  }
 ]
}