{
 "metadata": {
  "name": ""
 },
 "nbformat": 3,
 "nbformat_minor": 0,
 "worksheets": [
  {
   "cells": [
    {
     "cell_type": "markdown",
     "metadata": {
      "slideshow": {
       "slide_type": "skip"
      }
     },
     "source": [
      "* Sample survey (MEETConf survey: https://docs.google.com/a/meet.mit.edu/spreadsheet/ccc?key=0AgvHBWQHN252dHJtOTBrb3BaNWFUMGE4bHZLVFRoVGc&usp=drive_web#gid=0)\n",
      "* \"summary of results\"\n",
      "* Questions (metrics) you want to measure\n",
      "* Projections / estimate\n",
      "* Conclusions\n",
      "* Basic excel commands (COUNTIF, SUM, percentages, math, formulas)\n",
      "\n",
      "* How much can you actually trust people?"
     ]
    },
    {
     "cell_type": "markdown",
     "metadata": {
      "slideshow": {
       "slide_type": "slide"
      }
     },
     "source": [
      "# Surveys: NOW WHAT?\n",
      "\n",
      "<figure>\n",
      "<img src=\"files/imgs/table-of-data.png\" width=200>\n",
      "<img src=\"files/imgs/graphs.jpg\" width=200>\n",
      "</figure>"
     ]
    },
    {
     "cell_type": "markdown",
     "metadata": {
      "slideshow": {
       "slide_type": "slide"
      }
     },
     "source": [
      "We'll go through an example (a small example of the MEET transportation survey).\n",
      "\n",
      "[Link to the survey](files/imgs/sample-survey.pdf)\n",
      "\n",
      "[Link to the data, online](https://docs.google.com/a/meet.mit.edu/spreadsheets/d/1ePU9CgYdWC77GAxt6huKR_7w2w3qpWoEM-0s8iFto1g/edit#gid=1127603546)\n",
      "\n",
      "[Link to the data, downloaded](files/imgs/SAMPLE-Transportation-Survey-Responses.xlsx)"
     ]
    },
    {
     "cell_type": "markdown",
     "metadata": {
      "slideshow": {
       "slide_type": "slide"
      }
     },
     "source": [
      "## Steps to Survey Success\n",
      "\n",
      "0. Re-evaluate: survey purpose\n",
      "1. Basic survey stats\n",
      "2. Ask questions\n",
      "3. Make decisions + show results"
     ]
    },
    {
     "cell_type": "markdown",
     "metadata": {
      "slideshow": {
       "slide_type": "slide"
      }
     },
     "source": [
      "## Anticipated Results\n",
      "\n",
      "Groups: 3 main questions you wanted to answer with this survey. (_Why did you do the survey?_)"
     ]
    },
    {
     "cell_type": "markdown",
     "metadata": {
      "slideshow": {
       "slide_type": "fragment"
      }
     },
     "source": [
      "_Example:_\n",
      "\n",
      "1. _How do MEET students get to MEET?_\n",
      "2. _Can they get to / from MEET without MEET transportation?_\n",
      "3. _Is this worth it for MEET?_"
     ]
    },
    {
     "cell_type": "markdown",
     "metadata": {
      "slideshow": {
       "slide_type": "slide"
      }
     },
     "source": [
      "### Basic survey stats\n",
      "\n",
      "1. How many answered your survey?\n",
      "2. Are they the /right/ people? _(who is your customer)_\n",
      "3. What categories? (male / female / age group / etc.)"
     ]
    },
    {
     "cell_type": "markdown",
     "metadata": {
      "slideshow": {
       "slide_type": "subslide"
      }
     },
     "source": [
      "USEFUL SHORTCUT! \n",
      "\n",
      "Google Docs Summary of Responses! \n",
      "\n",
      "<figure>\n",
      "<img src=\"files/imgs/summary-of-responses.png\" width=300>\n",
      "</figure>"
     ]
    },
    {
     "cell_type": "markdown",
     "metadata": {
      "slideshow": {
       "slide_type": "subslide"
      }
     },
     "source": [
      "[Link to sample summary of responses](files/imgs/sample-summary-of-responses.pdf)\n",
      "\n",
      "_Example:_ \n",
      "\n",
      "1. 95 total people\n",
      "2. Yes, they are all MEET students\n",
      "3. Demographics\n",
      "    * Males: 42\n",
      "    * Females: 53\n",
      "    * Israelis: 37\n",
      "    * Palestinians: 58"
     ]
    },
    {
     "cell_type": "markdown",
     "metadata": {
      "slideshow": {
       "slide_type": "notes"
      }
     },
     "source": [
      "* What are some more useful demographics in my case? (Example: which hub, Israeli Males, Israeli Females, Palestinian Males, Palestinian Females)"
     ]
    },
    {
     "cell_type": "markdown",
     "metadata": {
      "slideshow": {
       "slide_type": "skip"
      }
     },
     "source": [
      "* _Population_ - the size of your target market\n",
      "* _Sample size_ - number of people answering your survey. An estimate for the number of people in the \"population\""
     ]
    },
    {
     "cell_type": "markdown",
     "metadata": {
      "slideshow": {
       "slide_type": "slide"
      }
     },
     "source": [
      "How many people is enough?\n",
      "\n",
      "* Data give you 95% confidence with a margin of error\n",
      "    * 5% chance that your estimates are different from the \"real\" population\n",
      "* Margin of error in estimate:\n",
      "\n",
      "   $$\\frac{1}{\\sqrt{n}}$$\n",
      "   \n",
      "   where $n$ is sample size"
     ]
    },
    {
     "cell_type": "markdown",
     "metadata": {
      "slideshow": {
       "slide_type": "subslide"
      }
     },
     "source": [
      "_Example:_\n",
      "\n",
      "* Total MEET students: 114\n",
      "* Filled out survey: 95\n",
      "* Margin of error: $\\frac{1}{\\sqrt{95}}$ = .10 = 10%"
     ]
    },
    {
     "cell_type": "markdown",
     "metadata": {
      "slideshow": {
       "slide_type": "slide"
      }
     },
     "source": [
      "### Ask questions\n",
      "\n",
      "1. 3 main questions you want to answer with this survey. \n",
      "4. What is your margin of error?\n",
      "2. Guess the answers\n",
      "3. Just stare at the data (overview, if you have one)\n",
      "4. Try to answer the questions based on your data\n",
      "3. How do the categories respond differently?\n",
      "4. Top 3 conclusions"
     ]
    },
    {
     "cell_type": "markdown",
     "metadata": {
      "slideshow": {
       "slide_type": "subslide"
      }
     },
     "source": [
      "_Example:_\n",
      "\n",
      "3 questions:\n",
      "\n",
      "1. How long will MEET students take to get to MEET?\n",
      "3. How many students will not come to MEET if there is no transportation?\n",
      "3. What kinds of students won't come? (nationality, gender, live far away?)"
     ]
    },
    {
     "cell_type": "markdown",
     "metadata": {
      "slideshow": {
       "slide_type": "subslide"
      }
     },
     "source": [
      "_Example:_\n",
      "\n",
      "Guess the answers: \n",
      "\n",
      "* It takes most students 30-60 minutes to get to MEET\n",
      "* Most students will come if there is no transportation\n",
      "* Students who live farther away are less likely to come with no transportation"
     ]
    },
    {
     "cell_type": "markdown",
     "metadata": {
      "slideshow": {
       "slide_type": "subslide"
      }
     },
     "source": [
      "_Example:_\n",
      "\n",
      "Stare at the data\n",
      "\n",
      "[Link to sample summary of responses](files/imgs/sample-summary-of-responses.pdf)"
     ]
    },
    {
     "cell_type": "markdown",
     "metadata": {
      "slideshow": {
       "slide_type": "subslide"
      }
     },
     "source": [
      "_Example:_ \n",
      "\n",
      "Answer questions / how do categories respond differently?: \n",
      "\n",
      "1. How long will MEET students take to get to MEET?\n",
      "3. How many students will not come to MEET if there is no transportation?\n",
      "3. What kinds of students won't come? (nationality, gender, live far away)\n",
      "\n",
      "_In this case, for all these questions, the Palestinian / Israeli difference is important._"
     ]
    },
    {
     "cell_type": "markdown",
     "metadata": {
      "slideshow": {
       "slide_type": "subslide"
      }
     },
     "source": [
      "_Go over how to count the percentage of Palestinians / Israelis who said no_\n",
      "\n",
      "* Math / formulas in Excel\n",
      "\n",
      "<figure>\n",
      "<img src=\"files/imgs/mathinexcel.png\" width=300>\n",
      "</figure>"
     ]
    },
    {
     "cell_type": "markdown",
     "metadata": {
      "slideshow": {
       "slide_type": "subslide"
      }
     },
     "source": [
      "* COUNTIF / COUNTIFS\n",
      "\n",
      "<figure>\n",
      "<img src=\"files/imgs/countif.png\" width=300>\n",
      "</figure>\n",
      "\n",
      "<figure>\n",
      "<img src=\"files/imgs/countifs.png\" width=300>\n",
      "</figure>"
     ]
    },
    {
     "cell_type": "markdown",
     "metadata": {
      "slideshow": {
       "slide_type": "subslide"
      }
     },
     "source": [
      "* COUNTA\n",
      "\n",
      "<figure>\n",
      "<img src=\"files/imgs/countifs.png\" width=300>\n",
      "</figure>"
     ]
    },
    {
     "cell_type": "markdown",
     "metadata": {
      "slideshow": {
       "slide_type": "subslide"
      }
     },
     "source": [
      "_Example:_ \n",
      "\n",
      "Top 3 conclusions\n",
      "\n",
      "1. For most students, walking is not an option for how to get to MEET\n",
      "2. 68% of students will still come to MEET if there is no transportation.\n",
      "3. More Palestinians than Israelis said they would not come; more girls than boys said they would not come"
     ]
    },
    {
     "cell_type": "markdown",
     "metadata": {
      "slideshow": {
       "slide_type": "slide"
      }
     },
     "source": [
      "### Make decisions + show results\n",
      "\n",
      "1. Show top 3 conclusions with a picture or table\n",
      "2. So what?"
     ]
    },
    {
     "cell_type": "markdown",
     "metadata": {
      "slideshow": {
       "slide_type": "subslide"
      }
     },
     "source": [
      "_Example:_ \n",
      "\n",
      "<figure>\n",
      "<img src=\"files/imgs/sample-conclusion.png\" width=300>\n",
      "</figure>"
     ]
    },
    {
     "cell_type": "markdown",
     "metadata": {
      "slideshow": {
       "slide_type": "slide"
      }
     },
     "source": [
      "Food for thought: _how much can you trust people's responses?_\n",
      "\n",
      "You can't make decisions for a project based on a single survey. But it gives you a good idea of where to go."
     ]
    }
   ],
   "metadata": {}
  }
 ]
}