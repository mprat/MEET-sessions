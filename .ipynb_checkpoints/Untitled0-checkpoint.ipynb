{
 "metadata": {
  "name": ""
 },
 "nbformat": 3,
 "nbformat_minor": 0,
 "worksheets": [
  {
   "cells": [
    {
     "cell_type": "code",
     "collapsed": false,
     "input": [
      "d = [\"2013-10-30\", \"2013-11-27\"]"
     ],
     "language": "python",
     "metadata": {},
     "outputs": [],
     "prompt_number": 6
    },
    {
     "cell_type": "code",
     "collapsed": false,
     "input": [
      "for date in d:\n",
      "    print \"old = \", date\n",
      "    b = date.split(\"-\")\n",
      "    new_date = b[0] + \"-\" + b[2] + \"-\" + b[1]\n",
      "    print \"new = \", new_date"
     ],
     "language": "python",
     "metadata": {},
     "outputs": [
      {
       "output_type": "stream",
       "stream": "stdout",
       "text": [
        "old =  2013-10-30\n",
        "new =  2013-30-10\n",
        "old =  2013-11-27\n",
        "new =  2013-27-11\n"
       ]
      }
     ],
     "prompt_number": 8
    },
    {
     "cell_type": "code",
     "collapsed": false,
     "input": [
      "import csv"
     ],
     "language": "python",
     "metadata": {},
     "outputs": [],
     "prompt_number": 9
    },
    {
     "cell_type": "code",
     "collapsed": false,
     "input": [
      "f = open('30oysters.csv', 'rb')\n",
      "reader = csv.reader(f)\n",
      "\n",
      "rownum = 0\n",
      "\n",
      "for row in reader:\n",
      "    if (rownum != 0):\n",
      "        print row\n",
      "    rownum += 1\n",
      "\n",
      "f.close()"
     ],
     "language": "python",
     "metadata": {},
     "outputs": [
      {
       "output_type": "stream",
       "stream": "stdout",
       "text": [
        "['Oyster_ID Oyster_Weight_g Oyster_Volume_cc Pixels_3D Pixels_2D']\n",
        "['1         12.92           13.04            5136699   47907']\n",
        "['2         11.40           11.71            4795151   41458']\n",
        "['3         17.42           17.42            6453115   60891']\n",
        "['4          6.79            7.23            2895239   29949']\n",
        "['5          9.62           10.03            3672746   41616']\n",
        "['6         15.50           15.59            5728880   48070']\n",
        "['7          9.66            9.94            3987582   34717']\n",
        "['8          7.02            7.53            2678423   27230']\n",
        "['9         12.56           12.73            5481545   52712']\n",
        "['10        12.49           12.66            5016762   41500']\n",
        "['11        10.12           10.53            3942783   31216']\n",
        "['12        10.64           10.84            4052638   41852']\n",
        "['13        12.99           13.12            5334558   44608']\n",
        "['14         8.09            8.48            3527926   35343']\n",
        "['15        14.09           14.24            5679636   47481']\n",
        "['16        10.73           11.11            4013992   40976']\n",
        "['17        15.17           15.35            5565995   65361']\n",
        "['18        15.50           15.44            6303198   50910']\n",
        "['19         5.22            5.67            1928109   22895']\n",
        "['20         7.75            8.26            3450164   34804']\n",
        "['21        10.71           10.95            4707532   37156']\n",
        "['22         7.91            7.97            3019077   29070']\n",
        "['23         6.93            7.34            2768160   24590']\n",
        "['24        13.63           13.21            4945743   48082']\n",
        "['25         7.67            7.83            3138463   32118']\n",
        "['26        11.27           11.38            4410797   45112']\n",
        "['27        10.98           11.22            4558251   37020']\n",
        "['28         8.87            9.25            3449867   39333']\n",
        "['29        13.68           13.75            5609681   51351']\n",
        "['30        14.27           14.37            5292105   53281']\n"
       ]
      }
     ],
     "prompt_number": 12
    }
   ],
   "metadata": {}
  }
 ]
}