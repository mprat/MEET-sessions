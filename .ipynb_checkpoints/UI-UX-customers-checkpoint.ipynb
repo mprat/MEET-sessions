{
 "metadata": {
  "name": ""
 },
 "nbformat": 3,
 "nbformat_minor": 0,
 "worksheets": [
  {
   "cells": [
    {
     "cell_type": "markdown",
     "metadata": {
      "slideshow": {
       "slide_type": "slide"
      }
     },
     "source": [
      "## UI vs. UX\n",
      "\n",
      "INTERFACE and EXPERIENCE"
     ]
    },
    {
     "cell_type": "markdown",
     "metadata": {
      "slideshow": {
       "slide_type": "slide"
      }
     },
     "source": [
      "<img src=\"files/imgs/gettaxi.png\" width=350px>"
     ]
    },
    {
     "cell_type": "markdown",
     "metadata": {
      "slideshow": {
       "slide_type": "slide"
      }
     },
     "source": [
      "## Principles of UI / UX\n",
      "\n",
      "1. **Learnability** - is it easy to use?\n",
      "2. **Efficiency** - once you learn it, is it fast to use?\n",
      "3. **Safety** - are errors few and recoverable?\n",
      "4. **Aesthetics** - satisfaction / happiness of user?\n",
      "5. **Ergonomics** - is it comfortable / exhausting to use?\n",
      "\n",
      "Which ones you care about matter on the application. For example: spaceshuttle launch, subway turnstile, experts, novices"
     ]
    },
    {
     "cell_type": "markdown",
     "metadata": {
      "slideshow": {
       "slide_type": "slide"
      }
     },
     "source": [
      "## Techniques"
     ]
    },
    {
     "cell_type": "markdown",
     "metadata": {
      "slideshow": {
       "slide_type": "notes"
      }
     },
     "source": [
      "* Metaphors (but don't force it)"
     ]
    },
    {
     "cell_type": "markdown",
     "metadata": {
      "slideshow": {
       "slide_type": "slide"
      }
     },
     "source": [
      "<img src=\"files/imgs/realCDinterface.jpg\" width=500px>"
     ]
    },
    {
     "cell_type": "markdown",
     "metadata": {
      "slideshow": {
       "slide_type": "notes"
      }
     },
     "source": [
      "* Consistency"
     ]
    },
    {
     "cell_type": "markdown",
     "metadata": {
      "slideshow": {
       "slide_type": "slide"
      }
     },
     "source": [
      "<img src=\"files/imgs/swype.png\" width=300px>\n",
      "<img src=\"files/imgs/droidx.jpg\" width=300px>"
     ]
    },
    {
     "cell_type": "markdown",
     "metadata": {
      "slideshow": {
       "slide_type": "notes"
      }
     },
     "source": [
      "* \"Affordance\" "
     ]
    },
    {
     "cell_type": "markdown",
     "metadata": {
      "slideshow": {
       "slide_type": "slide"
      }
     },
     "source": [
      "<img src=\"files/imgs/firefox-downarrow.png\" width=400px>"
     ]
    },
    {
     "cell_type": "markdown",
     "metadata": {
      "slideshow": {
       "slide_type": "notes"
      }
     },
     "source": [
      "User feedback. Something should change in 100ms, or the user will notice that nothing happened. "
     ]
    },
    {
     "cell_type": "markdown",
     "metadata": {
      "slideshow": {
       "slide_type": "slide"
      }
     },
     "source": [
      "<img src=\"files/imgs/pre-feedback.png\" width=300px>\n",
      "<img src=\"files/imgs/android-user-feedback.png\" width=300px>"
     ]
    },
    {
     "cell_type": "markdown",
     "metadata": {
      "slideshow": {
       "slide_type": "notes"
      }
     },
     "source": [
      "Direct mapping to something physical or known"
     ]
    },
    {
     "cell_type": "markdown",
     "metadata": {
      "slideshow": {
       "slide_type": "slide"
      }
     },
     "source": [
      "<img src=\"files/imgs/segway.jpg\" width=500px>"
     ]
    },
    {
     "cell_type": "markdown",
     "metadata": {
      "slideshow": {
       "slide_type": "notes"
      }
     },
     "source": [
      "Gamification"
     ]
    },
    {
     "cell_type": "markdown",
     "metadata": {
      "slideshow": {
       "slide_type": "slide"
      }
     },
     "source": [
      "<img src=\"files/imgs/reddit.png\" width=500px>"
     ]
    },
    {
     "cell_type": "markdown",
     "metadata": {
      "slideshow": {
       "slide_type": "notes"
      }
     },
     "source": [
      "Look for your own examples of good UI / UX"
     ]
    },
    {
     "cell_type": "markdown",
     "metadata": {
      "slideshow": {
       "slide_type": "slide"
      }
     },
     "source": [
      "<img src=\"files/imgs/iphone5.jpg\" width=500px>"
     ]
    },
    {
     "cell_type": "markdown",
     "metadata": {
      "slideshow": {
       "slide_type": "slide"
      }
     },
     "source": [
      "## Design process\n",
      "\n",
      "* What kinds of users do you have? \n",
      "    * computer experience, age, motivation, goals, education, language, age?\n",
      "    * YOU are not the user (in most cases)\n",
      "* Prototype early, prototype often\n",
      "* Paper prototypes\n",
      "* A / B testing"
     ]
    },
    {
     "cell_type": "markdown",
     "metadata": {
      "slideshow": {
       "slide_type": "slide"
      }
     },
     "source": [
      "## How do you know what the user really wants?\n",
      "\n",
      "<img src=\"files/imgs/old-telephone.jpg\" width=500px>"
     ]
    },
    {
     "cell_type": "markdown",
     "metadata": {
      "slideshow": {
       "slide_type": "slide"
      }
     },
     "source": [
      "## Understanding the user\n",
      "\n",
      "* Common mistake: describing what you WANT your users to be, rather than what they are\n",
      "* **The user is always right in behavior**. If they fail in doing something with your interface, the interface was not easy to use. They are not good at giving suggestions, but they are never wrong in their reactions."
     ]
    },
    {
     "cell_type": "markdown",
     "metadata": {
      "slideshow": {
       "slide_type": "slide"
      }
     },
     "source": [
      "**WHO** is your user\n",
      "\n",
      "**WHEN** is it used\n",
      "\n",
      "**WHERE** is it used\n",
      "\n",
      "**WHAT** features are a must / what is optional"
     ]
    }
   ],
   "metadata": {}
  }
 ]
}