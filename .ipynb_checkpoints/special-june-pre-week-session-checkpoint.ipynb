{
 "metadata": {
  "name": ""
 },
 "nbformat": 3,
 "nbformat_minor": 0,
 "worksheets": [
  {
   "cells": [
    {
     "cell_type": "markdown",
     "metadata": {
      "slideshow": {
       "slide_type": "notes"
      }
     },
     "source": [
      "* Finalize pitch\n",
      "* Share survey with Michele (mprat@meet.mit.edu)\n",
      "* Figure out how your team will manage your TODO lists (suggestion: shared Google Doc)\n",
      "* Make a few lists: \n",
      "    * What do you think you need to do\n",
      "    * What topics / subjects do you think you need most help with\n",
      "\n",
      "\n",
      "* Read feedback from your summer instructors"
     ]
    },
    {
     "cell_type": "markdown",
     "metadata": {
      "slideshow": {
       "slide_type": "slide"
      }
     },
     "source": [
      "* Finalize pitch\n",
      "* Share survey with Michele (mprat@meet.mit.edu)\n",
      "* Figure out how your team will manage your TODO lists (suggestion: shared Google Doc). Share this list with Michele (mprat@meet.mit.edu)\n",
      "* Sign up for session with Eva\n",
      "* Make a few lists: \n",
      "    * What do you think you need to do\n",
      "    * What topics / subjects do you think you need most help with\n",
      "* GO!"
     ]
    }
   ],
   "metadata": {}
  }
 ]
}