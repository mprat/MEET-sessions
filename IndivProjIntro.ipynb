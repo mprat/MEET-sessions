{
 "metadata": {
  "name": ""
 },
 "nbformat": 3,
 "nbformat_minor": 0,
 "worksheets": [
  {
   "cells": [
    {
     "cell_type": "markdown",
     "metadata": {
      "slideshow": {
       "slide_type": "slide"
      }
     },
     "source": [
      "## Context ##\n",
      "\n",
      "You are almost at the end of your MEET journey. It's time to do an individual project."
     ]
    },
    {
     "cell_type": "markdown",
     "metadata": {
      "slideshow": {
       "slide_type": "slide"
      }
     },
     "source": [
      "## Mobile Technology ##"
     ]
    },
    {
     "cell_type": "markdown",
     "metadata": {
      "slideshow": {
       "slide_type": "fragment"
      }
     },
     "source": [
      "* How many students in the room have a mobile device?"
     ]
    },
    {
     "cell_type": "markdown",
     "metadata": {
      "slideshow": {
       "slide_type": "fragment"
      }
     },
     "source": [
      "* Mobile is a VENUE, a SPACE, a DEPLOY MECHANISM"
     ]
    },
    {
     "cell_type": "markdown",
     "metadata": {
      "slideshow": {
       "slide_type": "fragment"
      }
     },
     "source": [
      "## Unique features of mobile (reaching users)\n",
      "Things you can't get with web or desktop apps"
     ]
    },
    {
     "cell_type": "markdown",
     "metadata": {
      "slideshow": {
       "slide_type": "fragment"
      }
     },
     "source": [
      "* With the user at all times (small)\n",
      "* Location information\n",
      "* Take photos\n",
      "* Can detect when you shake it (accelerometer)"
     ]
    },
    {
     "cell_type": "markdown",
     "metadata": {
      "slideshow": {
       "slide_type": "slide"
      }
     },
     "source": [
      "## Why Android and not iOS\n",
      "\n",
      "* Prototyping tools\n",
      "* Impact, prevalence of Android. How many students in the room have Android?"
     ]
    },
    {
     "cell_type": "markdown",
     "metadata": {
      "slideshow": {
       "slide_type": "slide"
      }
     },
     "source": [
      "## You and Technology Tools ##\n",
      "\n",
      "There are a million tools out there for development. You can't be an expert in one and that's it. You constantly need to learn more.\n",
      "\n",
      "* Tutorials are THE way to learn things\n",
      "* Want to get used to mobile space but still practice learning from tutorials, so we are choosing an \"easier\" technical tool"
     ]
    },
    {
     "cell_type": "markdown",
     "metadata": {
      "slideshow": {
       "slide_type": "slide"
      }
     },
     "source": [
      "## Project tools #\n",
      "\n",
      "* Design (both how it looks and how it works) is as important than being able to use the tools\n",
      "* We will practice having a plan and doing it"
     ]
    },
    {
     "cell_type": "markdown",
     "metadata": {
      "slideshow": {
       "slide_type": "slide"
      }
     },
     "source": [
      "##Student goals for individual project:##\n",
      "\n",
      "1. Learn to think about mobile technology space\n",
      "2. Read tutorials to learn how to do something\n",
      "3. Practice technical and aesthetic design\n",
      "4. Do something with MIT AppInventor from start to finish"
     ]
    },
    {
     "cell_type": "markdown",
     "metadata": {
      "slideshow": {
       "slide_type": "slide"
      }
     },
     "source": [
      "##Individual Project Info##\n",
      "\n",
      "* 3 class sessions (and any time you want at home). MINIMUM project required by the end of 3 sessions\n",
      "* Everyone will make an app\n",
      "* With everyone, we will come up with reasonable milestones"
     ]
    },
    {
     "cell_type": "markdown",
     "metadata": {
      "slideshow": {
       "slide_type": "slide"
      }
     },
     "source": [
      "## Briefly about Android apps ##\n",
      "\n",
      "* Android phones only understand Java\n",
      "* We will not use Java, but will use something that gets translated (compiled) into Java\n",
      "* App gets put into a package (a **.apk** file) that is all Java\n",
      "* Android phones can install arbitrary **.apk** files if you ask nicely"
     ]
    },
    {
     "cell_type": "markdown",
     "metadata": {
      "slideshow": {
       "slide_type": "slide"
      }
     },
     "source": [
      "## Terms ##\n",
      "\n",
      "* **accelerometer** - measures phone movement\n",
      "* **apk** - file extension for the bundle of files that make an app\n",
      "* **application / app** - bundle of files (compiled into Java) that have a specific purpose\n",
      "* **camera** - can be front or back facing\n",
      "* **event handler** - what happens as a result of something else happening. Listens for something to happen (the _event_) and triggers something else\n",
      "* **screen / touchscreen**"
     ]
    },
    {
     "cell_type": "markdown",
     "metadata": {
      "slideshow": {
       "slide_type": "slide"
      }
     },
     "source": [
      "## Our tool: AppInventor ##\n",
      "\n",
      "Might seem easy at first, but emphasizes good software design practices.\n",
      "\n",
      "[AppInventor information / demo](AppInventor.ipynb)"
     ]
    },
    {
     "cell_type": "markdown",
     "metadata": {
      "slideshow": {
       "slide_type": "notes"
      }
     },
     "source": [
      "Go over AppInventor demo and the like"
     ]
    },
    {
     "cell_type": "markdown",
     "metadata": {
      "slideshow": {
       "slide_type": "slide"
      }
     },
     "source": [
      "## What to do now ##\n",
      "\n",
      "1. Do Magic 8-ball tutorial\n",
      "2. Do PaintPot tutorial\n",
      "3. Think about a project idea"
     ]
    },
    {
     "cell_type": "markdown",
     "metadata": {
      "slideshow": {
       "slide_type": "skip"
      }
     },
     "source": [
      "## Your project requirements ##\n",
      "\n",
      "Go over handout of requirements."
     ]
    },
    {
     "cell_type": "markdown",
     "metadata": {
      "slideshow": {
       "slide_type": "skip"
      }
     },
     "source": [
      "## Ideas for your project ##\n",
      "\n",
      "[Individual Project Prompts](IndividualProjectPrompts.ipynb)"
     ]
    }
   ],
   "metadata": {}
  }
 ]
}