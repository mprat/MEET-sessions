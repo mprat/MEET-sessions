{
 "metadata": {
  "name": ""
 },
 "nbformat": 3,
 "nbformat_minor": 0,
 "worksheets": [
  {
   "cells": [
    {
     "cell_type": "markdown",
     "metadata": {},
     "source": [
      "* Due date for project is December 15th (next Sunday)\n",
      "\n",
      "## Mobile apps\n",
      "\n",
      "* Must upload screenshot of design editor / blocks editor to Github\n",
      "* Must upload .apk file to Github to get credit for the project\n",
      "* Must have a .txt file explaining / describing what your project is on Github\n",
      "\n",
      "AppInventor updated - don't freak out. You should use the old version. You can still find it here: \n",
      "\n",
      "* http://beta.appinventor.mit.edu\n",
      "* Documentation: http://appinventor.mit.edu/explore/support.html\n",
      "* Tutorials: http://explore.appinventor.mit.edu/tutorials (if you filter by App Inventor 1)\n",
      "\n",
      "## Hardware\n",
      "\n",
      "* Diagram of the circuit / board (hand-drawn is fine) uploaded to Github\n",
      "* Code for the program uploaded to Github\n",
      "* Video demo of your project (Michele can record this at the end of the session)"
     ]
    },
    {
     "cell_type": "code",
     "collapsed": false,
     "input": [],
     "language": "python",
     "metadata": {},
     "outputs": []
    }
   ],
   "metadata": {}
  }
 ]
}