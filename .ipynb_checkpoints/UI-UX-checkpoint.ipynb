{
 "metadata": {
  "name": ""
 },
 "nbformat": 3,
 "nbformat_minor": 0,
 "worksheets": [
  {
   "cells": [
    {
     "cell_type": "markdown",
     "metadata": {},
     "source": [
      "* Design around user experience.\n",
      "* \"know your space\" to figure out what buttons you need, the flow of the app, necessary components, eetc\n",
      "* need good examples and bad examples\n",
      "* talk about A/B testing\n",
      "* look at Rob Miller's notes, but should mostly be a discussion of good / bad examples"
     ]
    }
   ],
   "metadata": {}
  }
 ]
}