{
 "metadata": {
  "name": ""
 },
 "nbformat": 3,
 "nbformat_minor": 0,
 "worksheets": [
  {
   "cells": [
    {
     "cell_type": "markdown",
     "metadata": {
      "slideshow": {
       "slide_type": "notes"
      }
     },
     "source": [
      "(intro to class)\n",
      "We are going to do something that is not usually done in entrepreneurship teaching, and that is merge CS and business for the customer exploration part of the project. The goal of today is not to find solutions to your area / field directly, but to get at your solution from the perspective of the customer / consumer and UI / UX. \n",
      "\n",
      "Clarification on the use of the word \"customer\" - what we mean is customer / stakeholder / user. The person who is being targeted with your solution. Customer is a business term, but we don't only mean customer in terms of business. \n",
      "\n",
      "(15 minutes for activity)\n",
      "Finalize your problem / customer segments. The goal is to figure out in general who your potential customers are - if there are multiple potential audiences, great. Just keep in mind that today we will be working very strongly on customers. \n",
      "\n",
      "Goal for the end of today: really truly understand your potential customer segments.\n",
      "\n",
      "(3 minutes per group)\n",
      "Share your areas / fields / arenas; major problems; potential customer segments (does not have to be very detailed)."
     ]
    },
    {
     "cell_type": "markdown",
     "metadata": {
      "slideshow": {
       "slide_type": "slide"
      }
     },
     "source": [
      "## UI vs. UX\n",
      "\n",
      "INTERFACE and EXPERIENCE"
     ]
    },
    {
     "cell_type": "markdown",
     "metadata": {
      "slideshow": {
       "slide_type": "notes"
      }
     },
     "source": [
      "* interface and the experience of a product / solution make or break the product\n",
      "* sometimes the experience IS the product / solution\n",
      "* Filled with examples, and I want to give you things to think about"
     ]
    },
    {
     "cell_type": "markdown",
     "metadata": {
      "slideshow": {
       "slide_type": "slide"
      }
     },
     "source": [
      "<img src=\"files/imgs/gettaxi.png\" width=350px>"
     ]
    },
    {
     "cell_type": "markdown",
     "metadata": {
      "slideshow": {
       "slide_type": "notes"
      }
     },
     "source": [
      "* GetTaxi experience is different than the hailing a cab on the street experience\n",
      "* This product is not about the interface, it is about the experience"
     ]
    },
    {
     "cell_type": "markdown",
     "metadata": {
      "slideshow": {
       "slide_type": "slide"
      }
     },
     "source": [
      "## Understanding the user\n",
      "\n",
      "* Common mistake: describing what you WANT your users to be, rather than what they are\n",
      "* **The user is always right in behavior**. If they fail in doing something with your interface, the interface was not easy to use. They are not good at giving suggestions, but they are never wrong in their reactions."
     ]
    },
    {
     "cell_type": "markdown",
     "metadata": {
      "slideshow": {
       "slide_type": "slide"
      }
     },
     "source": [
      "**WHO** is your user\n",
      "\n",
      "**WHEN** is it used\n",
      "\n",
      "**WHERE** is it used\n",
      "\n",
      "**WHAT** features are a must / what is optional"
     ]
    },
    {
     "cell_type": "markdown",
     "metadata": {
      "slideshow": {
       "slide_type": "slide"
      }
     },
     "source": [
      "## Principles of UI / UX\n",
      "\n",
      "1. **Learnability** - is it easy to use?\n",
      "2. **Efficiency** - once you learn it, is it fast to use?\n",
      "3. **Safety** - are errors few and recoverable?\n",
      "4. **Aesthetics** - satisfaction / happiness of user?\n",
      "5. **Ergonomics** - is it comfortable / exhausting to use?"
     ]
    },
    {
     "cell_type": "markdown",
     "metadata": {
      "slideshow": {
       "slide_type": "notes"
      }
     },
     "source": [
      "* \"textbook\" UI / UX principles. There are more, but they can be broken into these 5 categories\n",
      "* Which ones you care about matter on the application. For example: spaceshuttle launch, subway turnstile, experts, novices"
     ]
    },
    {
     "cell_type": "markdown",
     "metadata": {
      "slideshow": {
       "slide_type": "slide"
      }
     },
     "source": [
      "## Techniques"
     ]
    },
    {
     "cell_type": "markdown",
     "metadata": {
      "slideshow": {
       "slide_type": "notes"
      }
     },
     "source": [
      "* These are by no means comprehensive techniques. This is more to serve examples, and there are a million ways to do something, and you can always invent your own. These are just to give you things to think about"
     ]
    },
    {
     "cell_type": "markdown",
     "metadata": {
      "slideshow": {
       "slide_type": "notes"
      }
     },
     "source": [
      "* Metaphors (but don't force it)\n",
      "* What people know is easy for them to understand\n",
      "* Makes it easy to learn"
     ]
    },
    {
     "cell_type": "markdown",
     "metadata": {
      "slideshow": {
       "slide_type": "slide"
      }
     },
     "source": [
      "<img src=\"files/imgs/realCDinterface.jpg\" width=500px>"
     ]
    },
    {
     "cell_type": "markdown",
     "metadata": {
      "slideshow": {
       "slide_type": "notes"
      }
     },
     "source": [
      "* Consistency\n",
      "* Stay close to what people know\n",
      "* related to metaphors\n",
      "* If you are doing something radical, your UI has to at least be something close to what people know\n",
      "* The same applies for bootstrapping your ideas to something else. For example, if your idea is to make a game to play with others, maybe a Facebook game is easier for people to use than remembering to go to another new social networking website"
     ]
    },
    {
     "cell_type": "markdown",
     "metadata": {
      "slideshow": {
       "slide_type": "slide"
      }
     },
     "source": [
      "<img src=\"files/imgs/swype.png\" width=300px>\n",
      "<img src=\"files/imgs/droidx.jpg\" width=300px>"
     ]
    },
    {
     "cell_type": "markdown",
     "metadata": {
      "slideshow": {
       "slide_type": "notes"
      }
     },
     "source": [
      "* \"Affordance\" \n",
      "* Give your users clues about what is happening (this is not related to the age or demographic of your users at all. this is just good for everyone)"
     ]
    },
    {
     "cell_type": "markdown",
     "metadata": {
      "slideshow": {
       "slide_type": "slide"
      }
     },
     "source": [
      "<img src=\"files/imgs/firefox-downarrow.png\" width=400px>"
     ]
    },
    {
     "cell_type": "markdown",
     "metadata": {
      "slideshow": {
       "slide_type": "notes"
      }
     },
     "source": [
      "* User feedback. Something should change in 100ms, or the user will notice that nothing happened and get frustrated\n",
      "* Angry users are not good users"
     ]
    },
    {
     "cell_type": "markdown",
     "metadata": {
      "slideshow": {
       "slide_type": "slide"
      }
     },
     "source": [
      "<img src=\"files/imgs/pre-feedback.png\" width=300px>\n",
      "<img src=\"files/imgs/android-user-feedback.png\" width=300px>"
     ]
    },
    {
     "cell_type": "markdown",
     "metadata": {
      "slideshow": {
       "slide_type": "notes"
      }
     },
     "source": [
      "* Direct mapping to something physical or known\n",
      "* related to metaphors, but more direct\n",
      "* People who are used to using something in the physical world will want to use this more"
     ]
    },
    {
     "cell_type": "markdown",
     "metadata": {
      "slideshow": {
       "slide_type": "slide"
      }
     },
     "source": [
      "<img src=\"files/imgs/segway.jpg\" width=500px>"
     ]
    },
    {
     "cell_type": "markdown",
     "metadata": {
      "slideshow": {
       "slide_type": "notes"
      }
     },
     "source": [
      "* Gamification\n",
      "* Make it fun\n",
      "* especially important for younger users, or users who have a lot of things thrown at them\n",
      "* Can help you stand out\n",
      "* Can help with users coming back\n",
      "* Competition is good too\n",
      "* This can be a whole separate lecture, but basically make it fun"
     ]
    },
    {
     "cell_type": "markdown",
     "metadata": {
      "slideshow": {
       "slide_type": "slide"
      }
     },
     "source": [
      "<img src=\"files/imgs/reddit.png\" width=500px>"
     ]
    },
    {
     "cell_type": "markdown",
     "metadata": {
      "slideshow": {
       "slide_type": "notes"
      }
     },
     "source": [
      "* Look for your own examples of good UI / UX\n",
      "* Don't mimic, take what is good and build on it"
     ]
    },
    {
     "cell_type": "markdown",
     "metadata": {
      "slideshow": {
       "slide_type": "slide"
      }
     },
     "source": [
      "<img src=\"files/imgs/iphone5.jpg\" width=500px>"
     ]
    },
    {
     "cell_type": "markdown",
     "metadata": {
      "slideshow": {
       "slide_type": "slide"
      }
     },
     "source": [
      "## Design process\n",
      "\n",
      "* What kinds of users do you have? \n",
      "    * computer experience, age, motivation, goals, education, language, age?\n",
      "    * YOU are not the user (in most cases)\n",
      "* Prototype early, prototype often\n",
      "* Paper prototypes\n",
      "* A / B testing"
     ]
    },
    {
     "cell_type": "markdown",
     "metadata": {
      "slideshow": {
       "slide_type": "slide"
      }
     },
     "source": [
      "## How do you know what the user really wants?\n",
      "\n",
      "<img src=\"files/imgs/old-telephone.jpg\" width=500px>"
     ]
    },
    {
     "cell_type": "markdown",
     "metadata": {
      "slideshow": {
       "slide_type": "notes"
      }
     },
     "source": [
      "* Telephone handsets were heavy and users were asked \"what do you want the handset to weight\" but when the user testing was done, it turned out that they actually wanted different from what they said"
     ]
    },
    {
     "cell_type": "markdown",
     "metadata": {
      "slideshow": {
       "slide_type": "slide"
      }
     },
     "source": [
      "**WHO** is your user\n",
      "\n",
      "**WHEN** is it used\n",
      "\n",
      "**WHERE** is it used\n",
      "\n",
      "**WHAT** features are a must / what is optional"
     ]
    },
    {
     "cell_type": "markdown",
     "metadata": {
      "slideshow": {
       "slide_type": "notes"
      }
     },
     "source": [
      "(break)\n",
      "\n",
      "(30 minutes) \n",
      "Identify customer COMPREHENSIVELY and create a CUSTOMER PROFILE. For each possible customer segment, make sure to answer the 4 questions above in as much detail as possible. But for the WHO especially. Old/young/internet literacy/language/income/education/car owner/pet owner/where do they go regularly/special characteristics. As you are doing this, think vaguely about what kinds of solutions are better for them: mobile, web, integration to a currently-existing product (e.g. FB game, car bumper sticker)\n",
      "\n",
      "(rest of time, depending on how much there is left)\n",
      "Now that you have a comprehensive customer profile, pretend that you are building a feature / app / website / whatever for them. Prototype this on paper, and role-play small features. Each group should have 2 paper prototype copies, and pair off half-groups with each other to test each other's product. Each tester group should be given a comprehensive customer profile, and understand the customer segment / problem / area. Give feedback pretending you are that customer segment. Testing team takes comprehensive notes on how the person uses their product / whatever. Later, will take this feedback and integrate it into their next-version prototype."
     ]
    }
   ],
   "metadata": {}
  }
 ]
}