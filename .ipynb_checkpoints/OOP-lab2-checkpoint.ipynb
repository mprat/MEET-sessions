{
 "metadata": {
  "name": ""
 },
 "nbformat": 3,
 "nbformat_minor": 0,
 "worksheets": [
  {
   "cells": [
    {
     "cell_type": "markdown",
     "metadata": {},
     "source": [
      "# Lab 4: OOP, classes, and objects\n",
      "\n",
      "1. Make a new folder called Lab4 (in your MEET-YL1 folder) to store all of your work. If you do not have a MEET-YL1 folder on your desktop (or are logging in as Guest), `cd` onto the Desktop and `git clone http://github.com/YOURUSERNAME13-meet/MEET-YL1` to get your MEET-YL1 folder. \n",
      "2. Open an empty text file and save it as `number.py` in the Lab4 folder. \n",
      "3. In the `number.py` file, create a class called `Integer`. This class should have one variable that stores the number, and one method called `display` that just prints out the number.\n",
      "4. Below your class definition, make a `__main__` method. It should look like this: \n",
      "    \n",
      "    ```\n",
      "    if __name__==\"__main__\":\n",
      "        print \"Michele\"\n",
      "    ```\n",
      "\n",
      "    Inside this main method, create a new `Integer` called `test` of the class that you created, and prove that the `display` method works by calling `test.display()`. This piece of code will serve as your tests for the classes you create. \n",
      "\n",
      "5. Add a new parameter (variable) to your `Integer` class that will describe whether the integer is a positive or a negative number. (What kind of information will this variable store?). You will need to change your contructor to include this second variable. Change the `display` method to display a number correctly, based on whether it is positive or negative. For example, instead of displaying \"9\", display \"-9\" if necessary. Make sure your main method tests still work correctly. \n",
      "6. Create a subclass of your `Integer` class called `NegativeInteger`. The constructor for this class should only have one parameter - asking for the number. Because the class is called `NegativeInteger`, one of the variables from `Integer` will already be set. Make sure to take care of this in the constructor.\n",
      "7. In your main method, create a new object of type `NegativeInteger` and call it's `display` method, making sure it works correctly. \n",
      "8. Override the `display` method of the `NegativeInteger` class. It should be the SAME as the `display` method of the `Integer` class, but afterwards, it should also print to the screen \"This is an object of the NegativeInteger class\". Remember, to call a method from a superclass inside a subclass, do: \n",
      "    \n",
      "    ```\n",
      "    SuperClassName.methodname(self, arguments)\n",
      "    ```\n",
      "    \n",
      "    Test to make sure these display methods work correctly.\n",
      "    \n",
      "9. Now instead of calling the `display` method separately for all the objects you created, create an `Integer` object and a `NegativeInteger` object. Put these objects in a list. Make a loop that iterates over all the objects in that list and calls their `display` methods. \n",
      "10. (extra) Instead of hard-coding the numbers that you want to create in your main method, ask the user to give you a positive number and a negative number to create. (Which class types will you create from these objects? Does it matter?)\n",
      "11. (extra) Ask the user how many numbers they want to create, and for each number, ask them whether it is positive or negative, then create these numbers. \n",
      "12. (extra) Figure out a way to do arithmetic (adding, subtracting, multiplying, dividing) with the `Integer`s and `NegativeInteger`s. (_Hint:  One way of doing this is to make four new methods to the `Integer` class, called something like `add()`, `subtract()`, `multiply()`, and `divide()`. Start with addition, and figure out how to test it and work up from there._)"
     ]
    },
    {
     "cell_type": "markdown",
     "metadata": {},
     "source": [
      "For reference, here is the example `Student` and `UniversityStudent` class I made for you in class. "
     ]
    },
    {
     "cell_type": "code",
     "collapsed": false,
     "input": [
      "class Student(object):\n",
      "    def __init__(self, name_to_set=\"\", year_to_set=0, score=100):\n",
      "        self.name = name_to_set\n",
      "        self.year = year_to_set\n",
      "        self.score = score\n",
      "    \n",
      "    def letter_grade(self):\n",
      "        if self.score >= 90:\n",
      "            return \"A\"\n",
      "        elif self.score >= 80: \n",
      "            return \"B\"\n",
      "        elif self.score >= 70:\n",
      "            return \"C\"\n",
      "        elif self.score >= 65:\n",
      "            return \"D\"\n",
      "        else: \n",
      "            return \"F\""
     ],
     "language": "python",
     "metadata": {},
     "outputs": [],
     "prompt_number": 1
    },
    {
     "cell_type": "code",
     "collapsed": false,
     "input": [
      "class UniversityStudent(Student):\n",
      "    def __init__(self, name_to_set=\"\", year_to_set=\"\", uni=\"\"):\n",
      "        super(UniversityStudent, self).__init__(name_to_set, year_to_set)\n",
      "        self.university = uni\n",
      "    \n",
      "    def signature(self):\n",
      "        return self.name + \", \" + self.university + \" \" + str(self.year) + \" Grade: \" + Student.letter_grade(self)"
     ],
     "language": "python",
     "metadata": {},
     "outputs": [],
     "prompt_number": 2
    },
    {
     "cell_type": "code",
     "collapsed": false,
     "input": [
      "if __name__==\"__main__\":\n",
      "    m = Student(\"Michele Pratusevich\", 2013)\n",
      "    m.score = 85\n",
      "    print m.score\n",
      "    print m.letter_grade()\n",
      "    \n",
      "    n = UniversityStudent(\"Kyle Hannon\", 2013, \"MIT\")\n",
      "    print n.name\n",
      "    print n.score\n",
      "    print n.year\n",
      "    print n.signature()"
     ],
     "language": "python",
     "metadata": {},
     "outputs": [
      {
       "output_type": "stream",
       "stream": "stdout",
       "text": [
        "85\n",
        "B\n",
        "Kyle Hannon\n",
        "100\n",
        "2013\n",
        "Kyle Hannon, MIT 2013 Grade: A\n"
       ]
      }
     ],
     "prompt_number": 5
    }
   ],
   "metadata": {}
  }
 ]
}