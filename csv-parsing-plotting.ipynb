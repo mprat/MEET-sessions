{
 "metadata": {
  "name": ""
 },
 "nbformat": 3,
 "nbformat_minor": 0,
 "worksheets": [
  {
   "cells": [
    {
     "cell_type": "markdown",
     "metadata": {
      "slideshow": {
       "slide_type": "slide"
      }
     },
     "source": [
      "# Data analysis with Python\n",
      "\n",
      "What we want to do: draw an interesting conclusion from data. Go from [table of data](http://www.amstat.org/publications/jse/datasets/30oysters.dat.txt) to a [picture that tells us more](https://github.com/meet-projects/sample-YL1-individual-project/blob/master/oyster_with_titles.png). \n",
      "\n",
      "Steps: \n",
      "\n",
      "1. Get data\n",
      "2. Put data into Python\n",
      "    1. Use python `csv` package\n",
      "    2. String parsing / formatting (turn into two lists of numbers)\n",
      "3. Draw a plot / decide what plot to draw\n",
      "    1. matplotlib\n",
      "4. Draw conclusions\n",
      "\n",
      "Big ideas: iteration, planning, big picture"
     ]
    },
    {
     "cell_type": "markdown",
     "metadata": {
      "slideshow": {
       "slide_type": "slide"
      }
     },
     "source": [
      "#### Definitions\n",
      "\n",
      "* **plot** - any picture that shows data in an interesting way (line graph, bar graph, histogram, etc.)\n",
      "* **graph** - same as a plot\n",
      "* **parsing** - getting useful information out of something. For example, getting the month out of the date string\n",
      "* **formatting** - turn something into a different way of representing (usually about strings). For example, turning dates from American format to European format"
     ]
    },
    {
     "cell_type": "markdown",
     "metadata": {
      "slideshow": {
       "slide_type": "slide"
      }
     },
     "source": [
      "### ipython notebook\n",
      "\n",
      "A **better** python shell. \"interactive python\" -- run one piece of python at a time and see what happens. It's also in a web browser.\n",
      "\n",
      "Run it from the folder in the terminal you want to save you work: \n",
      "\n",
      "```\n",
      "ipython notebook --pylab inline\n",
      "```\n",
      "\n",
      "It will open Firefox and you'll edit python from there. (If you are working on Windows, this is almost the same. Take a look at [the Windows install instructions](InstallipythonWindows.ipynb) when you start the lab for more information.)"
     ]
    },
    {
     "cell_type": "markdown",
     "metadata": {
      "slideshow": {
       "slide_type": "slide"
      }
     },
     "source": [
      "## String parsing / formatting\n",
      "\n",
      "**Context**: computers can do some things better than humans. One of these is change formats of strings. (e.g. change date format from American to European)\n",
      "\n",
      "**Problem**: I run the American branch of the Red Cross. For every patient that we treat I collect their birthday. I want to give this data to my counterpart in France to compare the age demographic of our patients. We have over 3 million records for the last year alone - I need to change all the date formats before I send the data over.\n",
      "\n",
      "2013-10-30 --> 2013-30-10\n",
      "\n",
      "* By hand this is LONG AND TEDIOUS\n",
      "* By computer this is FAST AND EASY"
     ]
    },
    {
     "cell_type": "code",
     "collapsed": false,
     "input": [
      "# d is in form 2013-10-23 but we want\n",
      "# in form 2013-23-10\n",
      "\n",
      "dates = [\"2013-10-30\"]\n",
      "\n",
      "for d in dates:\n",
      "\tprint \"old = \", d\n",
      "\tb = d.split(\"-\")\n",
      "\tnew_date = b[0] + \"-\" + b[2] + \"-\" + b[1]\n",
      "\tprint \"new = \", new_date"
     ],
     "language": "python",
     "metadata": {
      "slideshow": {
       "slide_type": "skip"
      }
     },
     "outputs": [
      {
       "output_type": "stream",
       "stream": "stdout",
       "text": [
        "old =  2013-10-30\n",
        "new =  2013-30-10\n"
       ]
      }
     ],
     "prompt_number": 1
    },
    {
     "cell_type": "markdown",
     "metadata": {
      "slideshow": {
       "slide_type": "slide"
      }
     },
     "source": [
      "## When do you have these kinds of problems? \n",
      "\n",
      "* Modify LOTS of strings\n",
      "* Tables (of data) (like Excel sheets)\n",
      "* Move data from one storage to another (the example above)"
     ]
    },
    {
     "cell_type": "markdown",
     "metadata": {
      "slideshow": {
       "slide_type": "slide"
      }
     },
     "source": [
      "## How data is stored\n",
      "\n",
      "* csv = \"**C**omma-**S**eparated **V**alue\"\n",
      "* store values in a text document, but special formatting for data (in a table)\n",
      "* sometimes the first row are \"headers\" (titles of columns)\n",
      "* a file format Python can understand\n",
      "* Example: \n",
      "    * [Data about oysters](http://www.amstat.org/publications/jse/jse_data_archive.htm)\n",
      "    * [Save it as a csv](http://www.amstat.org/publications/jse/datasets/30oysters.dat.txt)"
     ]
    },
    {
     "cell_type": "markdown",
     "metadata": {
      "slideshow": {
       "slide_type": "slide"
      }
     },
     "source": [
      "## Getting data into Python\n",
      "\n",
      "Use the **csv** package. Here is a [good tutorial](http://www.pythonforbeginners.com/systems-programming/using-the-csv-module-in-python/). And here is a very simple [example](https://github.com/meet-projects/sample-YL1-individual-project/blob/master/csv_package_demo.py)."
     ]
    },
    {
     "cell_type": "code",
     "collapsed": false,
     "input": [
      "import csv\n",
      "\n",
      "# the name of the file\n",
      "# 'rb' means \"for reading the file\"\n",
      "# (if you write 'wb' that is \n",
      "# \"for writing the file\")\n",
      "f = open('30oysters.csv', 'rb')\n",
      "\n",
      "# the actual reader object that has the file\n",
      "reader = csv.reader(f)\n",
      "\n",
      "#using this to count the row numbers\n",
      "rownum = 0\n",
      "\n",
      "# the reader object is made of rows of data\n",
      "for row in reader:\n",
      "    \n",
      "    # the header is the first row\n",
      "    if rownum == 0:\n",
      "        header = row\n",
      "    else:\n",
      "        \n",
      "        # for now just print the row\n",
      "        # later we will add more here\n",
      "        print row\n",
      "    \n",
      "    # count the row numbers\n",
      "    rownum += 1\n",
      "\n",
      "# you always must close your file,\n",
      "# or you will use too much memory\n",
      "f.close()"
     ],
     "language": "python",
     "metadata": {
      "slideshow": {
       "slide_type": "skip"
      }
     },
     "outputs": [
      {
       "output_type": "stream",
       "stream": "stdout",
       "text": [
        "['1         12.92           13.04            5136699   47907']\n",
        "['2         11.40           11.71            4795151   41458']\n",
        "['3         17.42           17.42            6453115   60891']\n",
        "['4          6.79            7.23            2895239   29949']\n",
        "['5          9.62           10.03            3672746   41616']\n",
        "['6         15.50           15.59            5728880   48070']\n",
        "['7          9.66            9.94            3987582   34717']\n",
        "['8          7.02            7.53            2678423   27230']\n",
        "['9         12.56           12.73            5481545   52712']\n",
        "['10        12.49           12.66            5016762   41500']\n",
        "['11        10.12           10.53            3942783   31216']\n",
        "['12        10.64           10.84            4052638   41852']\n",
        "['13        12.99           13.12            5334558   44608']\n",
        "['14         8.09            8.48            3527926   35343']\n",
        "['15        14.09           14.24            5679636   47481']\n",
        "['16        10.73           11.11            4013992   40976']\n",
        "['17        15.17           15.35            5565995   65361']\n",
        "['18        15.50           15.44            6303198   50910']\n",
        "['19         5.22            5.67            1928109   22895']\n",
        "['20         7.75            8.26            3450164   34804']\n",
        "['21        10.71           10.95            4707532   37156']\n",
        "['22         7.91            7.97            3019077   29070']\n",
        "['23         6.93            7.34            2768160   24590']\n",
        "['24        13.63           13.21            4945743   48082']\n",
        "['25         7.67            7.83            3138463   32118']\n",
        "['26        11.27           11.38            4410797   45112']\n",
        "['27        10.98           11.22            4558251   37020']\n",
        "['28         8.87            9.25            3449867   39333']\n",
        "['29        13.68           13.75            5609681   51351']\n",
        "['30        14.27           14.37            5292105   53281']\n"
       ]
      }
     ],
     "prompt_number": 33
    },
    {
     "cell_type": "markdown",
     "metadata": {
      "slideshow": {
       "slide_type": "fragment"
      }
     },
     "source": [
      "Rows from the reader are returned in the form of a list. Each row is a list."
     ]
    },
    {
     "cell_type": "markdown",
     "metadata": {
      "slideshow": {
       "slide_type": "slide"
      }
     },
     "source": [
      "### [Lab 3, Exercise 1](https://docs.google.com/document/d/1ANWBTbUPTIh_tL5QjEm4udTCBL0COGJNRzAp5StX5wg/edit?usp=sharing): data, csv, and ipython notebook"
     ]
    },
    {
     "cell_type": "markdown",
     "metadata": {
      "slideshow": {
       "slide_type": "slide"
      }
     },
     "source": [
      "Now that we have data in python, the goal is to turn that data into a list of numbers, so we can plot it.\n",
      "\n",
      "## String formatting\n",
      "\n",
      "Each row from the reader is given to us as a string inside a list or a list of strings (it depends on the data set, so you have to iteratively figure out what you need to do). \n",
      "\n",
      "A combination of string formatting and list manipulation."
     ]
    },
    {
     "cell_type": "markdown",
     "metadata": {
      "slideshow": {
       "slide_type": "slide"
      }
     },
     "source": [
      "### String methods\n",
      "\n",
      "Methods to remember (these act on strings):\n",
      "\n",
      "* `.replace()` - replace characters in a string with another string\n",
      "* `.split()` - cut a string into pieces based on whitespace"
     ]
    },
    {
     "cell_type": "code",
     "collapsed": false,
     "input": [
      "a = \"Alpine \\t\\t15.4      6.7\"\n",
      "print a"
     ],
     "language": "python",
     "metadata": {
      "slideshow": {
       "slide_type": "skip"
      }
     },
     "outputs": [
      {
       "output_type": "stream",
       "stream": "stdout",
       "text": [
        "Alpine \t\t15.4      6.7\n"
       ]
      }
     ],
     "prompt_number": 21
    },
    {
     "cell_type": "code",
     "collapsed": false,
     "input": [
      "b = a.replace(\"\\t\", \" \")\n",
      "print b\n",
      "# for reference, \\t is a tab character"
     ],
     "language": "python",
     "metadata": {
      "slideshow": {
       "slide_type": "skip"
      }
     },
     "outputs": [
      {
       "output_type": "stream",
       "stream": "stdout",
       "text": [
        "Alpine   15.4      6.7\n"
       ]
      }
     ],
     "prompt_number": 22
    },
    {
     "cell_type": "code",
     "collapsed": false,
     "input": [
      "c = b.split()\n",
      "print c"
     ],
     "language": "python",
     "metadata": {
      "slideshow": {
       "slide_type": "skip"
      }
     },
     "outputs": [
      {
       "output_type": "stream",
       "stream": "stdout",
       "text": [
        "['Alpine', '15.4', '6.7']\n"
       ]
      }
     ],
     "prompt_number": 23
    },
    {
     "cell_type": "markdown",
     "metadata": {
      "slideshow": {
       "slide_type": "slide"
      }
     },
     "source": [
      "### List manipulation\n",
      "\n",
      "Methods to remember (these act on lists): \n",
      "\n",
      "* `.append()` - adds one element to the end of the list\n",
      "* `.extend()` - adds a list of elements to the end of the list\n",
      "* `len()` - returns the number of elements in the list\n",
      "\n",
      "And index manipulations: \n",
      "\n",
      "```\n",
      "        a = [1, 2, 3, 4]\n",
      "        a[1:3] \u2192 [2, 3]\n",
      "        a[1:] \u2192 [2, 3, 4]\n",
      "        a[-2:0] \u2192 [3, 4]\n",
      "        a[:] \u2192 [1, 2, 3, 4]\n",
      "```"
     ]
    },
    {
     "cell_type": "code",
     "collapsed": false,
     "input": [
      "a = [\"a\", \"b\", \"c\", \"d\"]\n",
      "print \"length =\", len(a)"
     ],
     "language": "python",
     "metadata": {
      "slideshow": {
       "slide_type": "skip"
      }
     },
     "outputs": [
      {
       "output_type": "stream",
       "stream": "stdout",
       "text": [
        "length = 4\n"
       ]
      }
     ],
     "prompt_number": 9
    },
    {
     "cell_type": "code",
     "collapsed": false,
     "input": [
      "a.append(\"e\")\n",
      "print \"after append\", a\n",
      "print \"length\", len(a)"
     ],
     "language": "python",
     "metadata": {
      "slideshow": {
       "slide_type": "skip"
      }
     },
     "outputs": [
      {
       "output_type": "stream",
       "stream": "stdout",
       "text": [
        "after append ['a', 'b', 'c', 'd', 'e']\n",
        "length 5\n"
       ]
      }
     ],
     "prompt_number": 10
    },
    {
     "cell_type": "code",
     "collapsed": false,
     "input": [
      "a.extend([\"f\", \"g\"])\n",
      "print \"after extend\", a\n",
      "print \"length\", len(a)"
     ],
     "language": "python",
     "metadata": {
      "slideshow": {
       "slide_type": "skip"
      }
     },
     "outputs": [
      {
       "output_type": "stream",
       "stream": "stdout",
       "text": [
        "after extend ['a', 'b', 'c', 'd', 'e', 'f', 'g']\n",
        "length 7\n"
       ]
      }
     ],
     "prompt_number": 11
    },
    {
     "cell_type": "code",
     "collapsed": false,
     "input": [
      "a[1:3]"
     ],
     "language": "python",
     "metadata": {
      "slideshow": {
       "slide_type": "skip"
      }
     },
     "outputs": [
      {
       "metadata": {},
       "output_type": "pyout",
       "prompt_number": 12,
       "text": [
        "['b', 'c']"
       ]
      }
     ],
     "prompt_number": 12
    },
    {
     "cell_type": "code",
     "collapsed": false,
     "input": [
      "a[0]"
     ],
     "language": "python",
     "metadata": {
      "slideshow": {
       "slide_type": "skip"
      }
     },
     "outputs": [
      {
       "metadata": {},
       "output_type": "pyout",
       "prompt_number": 13,
       "text": [
        "'a'"
       ]
      }
     ],
     "prompt_number": 13
    },
    {
     "cell_type": "code",
     "collapsed": false,
     "input": [
      "a[2:]"
     ],
     "language": "python",
     "metadata": {
      "slideshow": {
       "slide_type": "skip"
      }
     },
     "outputs": [
      {
       "metadata": {},
       "output_type": "pyout",
       "prompt_number": 15,
       "text": [
        "['c', 'd', 'e', 'f', 'g']"
       ]
      }
     ],
     "prompt_number": 15
    },
    {
     "cell_type": "code",
     "collapsed": false,
     "input": [
      "a[:3]"
     ],
     "language": "python",
     "metadata": {
      "slideshow": {
       "slide_type": "skip"
      }
     },
     "outputs": [
      {
       "metadata": {},
       "output_type": "pyout",
       "prompt_number": 16,
       "text": [
        "['a', 'b', 'c']"
       ]
      }
     ],
     "prompt_number": 16
    },
    {
     "cell_type": "code",
     "collapsed": false,
     "input": [
      "a[:]"
     ],
     "language": "python",
     "metadata": {
      "slideshow": {
       "slide_type": "skip"
      }
     },
     "outputs": [
      {
       "metadata": {},
       "output_type": "pyout",
       "prompt_number": 17,
       "text": [
        "['a', 'b', 'c', 'd', 'e', 'f', 'g']"
       ]
      }
     ],
     "prompt_number": 17
    },
    {
     "cell_type": "code",
     "collapsed": false,
     "input": [
      "a[-2:]"
     ],
     "language": "python",
     "metadata": {
      "slideshow": {
       "slide_type": "skip"
      }
     },
     "outputs": [
      {
       "metadata": {},
       "output_type": "pyout",
       "prompt_number": 18,
       "text": [
        "['f', 'g']"
       ]
      }
     ],
     "prompt_number": 18
    },
    {
     "cell_type": "code",
     "collapsed": false,
     "input": [
      "a[::-1]"
     ],
     "language": "python",
     "metadata": {
      "slideshow": {
       "slide_type": "skip"
      }
     },
     "outputs": [
      {
       "metadata": {},
       "output_type": "pyout",
       "prompt_number": 19,
       "text": [
        "['g', 'f', 'e', 'd', 'c', 'b', 'a']"
       ]
      }
     ],
     "prompt_number": 19
    },
    {
     "cell_type": "markdown",
     "metadata": {
      "slideshow": {
       "slide_type": "skip"
      }
     },
     "source": [
      "And many more! You have a shell, just try it!"
     ]
    },
    {
     "cell_type": "markdown",
     "metadata": {
      "slideshow": {
       "slide_type": "slide"
      }
     },
     "source": [
      "### Strings to numbers\n",
      "\n",
      "Methods to remember: \n",
      "\n",
      "* `float()` - turns a string into a float\n",
      "* `int()` - turns a string into an int\n",
      "* `map()` - does a function on each member of a list"
     ]
    },
    {
     "cell_type": "code",
     "collapsed": false,
     "input": [
      "n = \"15\"\n",
      "print int(n)\n",
      "print float(n)"
     ],
     "language": "python",
     "metadata": {
      "slideshow": {
       "slide_type": "skip"
      }
     },
     "outputs": [
      {
       "output_type": "stream",
       "stream": "stdout",
       "text": [
        "15\n",
        "15.0\n"
       ]
      }
     ],
     "prompt_number": 28
    },
    {
     "cell_type": "code",
     "collapsed": false,
     "input": [
      "d = ['15', '4']\n",
      "print \"original = \", d\n",
      "print \"int map = \", map(int, d)\n",
      "print \"float map = \", map(float, d)"
     ],
     "language": "python",
     "metadata": {
      "slideshow": {
       "slide_type": "skip"
      }
     },
     "outputs": [
      {
       "output_type": "stream",
       "stream": "stdout",
       "text": [
        "original =  ['15', '4']\n",
        "int map =  [15, 4]\n",
        "float map =  [15.0, 4.0]\n"
       ]
      }
     ],
     "prompt_number": 31
    },
    {
     "cell_type": "code",
     "collapsed": false,
     "input": [
      "d = ['maya13', 'nicole13']\n",
      "def meetify(string):\n",
      "    return string + \"-meet\"\n",
      "print d\n",
      "print map(meetify, d)"
     ],
     "language": "python",
     "metadata": {
      "slideshow": {
       "slide_type": "skip"
      }
     },
     "outputs": [
      {
       "output_type": "stream",
       "stream": "stdout",
       "text": [
        "['maya13', 'nicole13']\n",
        "['maya13-meet', 'nicole13-meet']\n"
       ]
      }
     ],
     "prompt_number": 32
    },
    {
     "cell_type": "markdown",
     "metadata": {
      "slideshow": {
       "slide_type": "skip"
      }
     },
     "source": [
      "Now that we know how to format strings, where do we do this with our data? With each row of course!"
     ]
    },
    {
     "cell_type": "code",
     "collapsed": false,
     "input": [
      "import csv\n",
      "f = open('30oysters.csv', 'rb')\n",
      "reader = csv.reader(f)\n",
      "rownum = 0\n",
      "weight = []\n",
      "vol = []\n",
      "for row in reader:\n",
      "    if rownum == 0:\n",
      "        header = row\n",
      "    else:\n",
      "        print \"row = \", row\n",
      "        r = map(float, row[0].split())\n",
      "        print \"formatted row = \", r\n",
      "    rownum += 1\n",
      "f.close()"
     ],
     "language": "python",
     "metadata": {
      "slideshow": {
       "slide_type": "skip"
      }
     },
     "outputs": [
      {
       "output_type": "stream",
       "stream": "stdout",
       "text": [
        "row =  ['1         12.92           13.04            5136699   47907']\n",
        "formatted row =  [1.0, 12.92, 13.04, 5136699.0, 47907.0]\n",
        "row =  ['2         11.40           11.71            4795151   41458']\n",
        "formatted row =  [2.0, 11.4, 11.71, 4795151.0, 41458.0]\n",
        "row =  ['3         17.42           17.42            6453115   60891']\n",
        "formatted row =  [3.0, 17.42, 17.42, 6453115.0, 60891.0]\n",
        "row =  ['4          6.79            7.23            2895239   29949']\n",
        "formatted row =  [4.0, 6.79, 7.23, 2895239.0, 29949.0]\n",
        "row =  ['5          9.62           10.03            3672746   41616']\n",
        "formatted row =  [5.0, 9.62, 10.03, 3672746.0, 41616.0]\n",
        "row =  ['6         15.50           15.59            5728880   48070']\n",
        "formatted row =  [6.0, 15.5, 15.59, 5728880.0, 48070.0]\n",
        "row =  ['7          9.66            9.94            3987582   34717']\n",
        "formatted row =  [7.0, 9.66, 9.94, 3987582.0, 34717.0]\n",
        "row =  ['8          7.02            7.53            2678423   27230']\n",
        "formatted row =  [8.0, 7.02, 7.53, 2678423.0, 27230.0]\n",
        "row =  ['9         12.56           12.73            5481545   52712']\n",
        "formatted row =  [9.0, 12.56, 12.73, 5481545.0, 52712.0]\n",
        "row =  ['10        12.49           12.66            5016762   41500']\n",
        "formatted row =  [10.0, 12.49, 12.66, 5016762.0, 41500.0]\n",
        "row =  ['11        10.12           10.53            3942783   31216']\n",
        "formatted row =  [11.0, 10.12, 10.53, 3942783.0, 31216.0]\n",
        "row =  ['12        10.64           10.84            4052638   41852']\n",
        "formatted row =  [12.0, 10.64, 10.84, 4052638.0, 41852.0]\n",
        "row =  ['13        12.99           13.12            5334558   44608']\n",
        "formatted row =  [13.0, 12.99, 13.12, 5334558.0, 44608.0]\n",
        "row =  ['14         8.09            8.48            3527926   35343']\n",
        "formatted row =  [14.0, 8.09, 8.48, 3527926.0, 35343.0]\n",
        "row =  ['15        14.09           14.24            5679636   47481']\n",
        "formatted row =  [15.0, 14.09, 14.24, 5679636.0, 47481.0]\n",
        "row =  ['16        10.73           11.11            4013992   40976']\n",
        "formatted row =  [16.0, 10.73, 11.11, 4013992.0, 40976.0]\n",
        "row =  ['17        15.17           15.35            5565995   65361']\n",
        "formatted row =  [17.0, 15.17, 15.35, 5565995.0, 65361.0]\n",
        "row =  ['18        15.50           15.44            6303198   50910']\n",
        "formatted row =  [18.0, 15.5, 15.44, 6303198.0, 50910.0]\n",
        "row =  ['19         5.22            5.67            1928109   22895']\n",
        "formatted row =  [19.0, 5.22, 5.67, 1928109.0, 22895.0]\n",
        "row =  ['20         7.75            8.26            3450164   34804']\n",
        "formatted row =  [20.0, 7.75, 8.26, 3450164.0, 34804.0]\n",
        "row =  ['21        10.71           10.95            4707532   37156']\n",
        "formatted row =  [21.0, 10.71, 10.95, 4707532.0, 37156.0]\n",
        "row =  ['22         7.91            7.97            3019077   29070']\n",
        "formatted row =  [22.0, 7.91, 7.97, 3019077.0, 29070.0]\n",
        "row =  ['23         6.93            7.34            2768160   24590']\n",
        "formatted row =  [23.0, 6.93, 7.34, 2768160.0, 24590.0]\n",
        "row =  ['24        13.63           13.21            4945743   48082']\n",
        "formatted row =  [24.0, 13.63, 13.21, 4945743.0, 48082.0]\n",
        "row =  ['25         7.67            7.83            3138463   32118']\n",
        "formatted row =  [25.0, 7.67, 7.83, 3138463.0, 32118.0]\n",
        "row =  ['26        11.27           11.38            4410797   45112']\n",
        "formatted row =  [26.0, 11.27, 11.38, 4410797.0, 45112.0]\n",
        "row =  ['27        10.98           11.22            4558251   37020']\n",
        "formatted row =  [27.0, 10.98, 11.22, 4558251.0, 37020.0]\n",
        "row =  ['28         8.87            9.25            3449867   39333']\n",
        "formatted row =  [28.0, 8.87, 9.25, 3449867.0, 39333.0]\n",
        "row =  ['29        13.68           13.75            5609681   51351']\n",
        "formatted row =  [29.0, 13.68, 13.75, 5609681.0, 51351.0]\n",
        "row =  ['30        14.27           14.37            5292105   53281']\n",
        "formatted row =  [30.0, 14.27, 14.37, 5292105.0, 53281.0]\n"
       ]
      }
     ],
     "prompt_number": 34
    },
    {
     "cell_type": "markdown",
     "metadata": {
      "slideshow": {
       "slide_type": "slide"
      }
     },
     "source": [
      "### [Lab 3, Exercise 2](https://docs.google.com/document/d/1ANWBTbUPTIh_tL5QjEm4udTCBL0COGJNRzAp5StX5wg/edit?usp=sharing): string formatting"
     ]
    },
    {
     "cell_type": "markdown",
     "metadata": {
      "slideshow": {
       "slide_type": "slide"
      }
     },
     "source": [
      "## Plotting\n",
      "\n",
      "We now have our data in number format so we can use it for drawing graphs. But the data is not useful for plotting. When we plot, we need two lists of numbers (two variables to plot, one on the `x` axis and one on the `y` axis). "
     ]
    },
    {
     "cell_type": "markdown",
     "metadata": {
      "slideshow": {
       "slide_type": "slide"
      }
     },
     "source": [
      "### Parsing the right data\n",
      "\n",
      "We need to save the data we want into two separate lists to plot. Right now, data from our `csv` file is in COLUMNS: \n",
      "\n",
      "<img src=\"files/imgs/col_datas.png\" width=500>\n",
      "\n",
      "But we want our data in two LISTS instead: \n",
      "\n",
      "<img src=\"files/imgs/row_data.png\" width=600>"
     ]
    },
    {
     "cell_type": "markdown",
     "metadata": {
      "slideshow": {
       "slide_type": "fragment"
      }
     },
     "source": [
      "_How do I know what columns to use?_ Look at the headering of the columns in the original file!"
     ]
    },
    {
     "cell_type": "code",
     "collapsed": false,
     "input": [
      "import csv\n",
      "f = open('30oysters.csv', 'rb')\n",
      "reader = csv.reader(f)\n",
      "rownum = 0\n",
      "weight = []\n",
      "vol = []\n",
      "for row in reader:\n",
      "    if rownum == 0:\n",
      "        header = row\n",
      "    else:\n",
      "        r = map(float, row[0].split())\n",
      "        weight.append(r[1])\n",
      "        vol.append(r[2])\n",
      "    rownum += 1\n",
      "\n",
      "print \"weight = \", weight\n",
      "print \"vol = \", vol\n",
      "f.close()"
     ],
     "language": "python",
     "metadata": {
      "slideshow": {
       "slide_type": "skip"
      }
     },
     "outputs": [
      {
       "output_type": "stream",
       "stream": "stdout",
       "text": [
        "weight =  [12.92, 11.4, 17.42, 6.79, 9.62, 15.5, 9.66, 7.02, 12.56, 12.49, 10.12, 10.64, 12.99, 8.09, 14.09, 10.73, 15.17, 15.5, 5.22, 7.75, 10.71, 7.91, 6.93, 13.63, 7.67, 11.27, 10.98, 8.87, 13.68, 14.27]\n",
        "vol =  [13.04, 11.71, 17.42, 7.23, 10.03, 15.59, 9.94, 7.53, 12.73, 12.66, 10.53, 10.84, 13.12, 8.48, 14.24, 11.11, 15.35, 15.44, 5.67, 8.26, 10.95, 7.97, 7.34, 13.21, 7.83, 11.38, 11.22, 9.25, 13.75, 14.37]\n"
       ]
      }
     ],
     "prompt_number": 36
    },
    {
     "cell_type": "markdown",
     "metadata": {
      "slideshow": {
       "slide_type": "slide"
      }
     },
     "source": [
      "## Plotting the data\n",
      "\n",
      "Two types of plots: `dot / scatter plots` and `line plots`. \n",
      "\n",
      "Methods to remember: \n",
      "\n",
      "* `scatter(x, y)` - makes a dot plot with `x` on the bottom and `y` on the side\n",
      "* `plot(x, y)` - makes a line plot with `x` on the bottom and `y` on the side\n",
      "\n",
      "The type of data you have and what you want to show decides what type of plot to use."
     ]
    },
    {
     "cell_type": "code",
     "collapsed": false,
     "input": [
      "# need to import this so we can actually plot stuff\n",
      "from pylab import *"
     ],
     "language": "python",
     "metadata": {
      "slideshow": {
       "slide_type": "skip"
      }
     },
     "outputs": [],
     "prompt_number": 40
    },
    {
     "cell_type": "code",
     "collapsed": false,
     "input": [
      "scatter(weight, vol)"
     ],
     "language": "python",
     "metadata": {
      "slideshow": {
       "slide_type": "skip"
      }
     },
     "outputs": [
      {
       "metadata": {},
       "output_type": "pyout",
       "prompt_number": 41,
       "text": [
        "<matplotlib.collections.PathCollection at 0x42a3750>"
       ]
      },
      {
       "metadata": {},
       "output_type": "display_data",
       "png": "[encoded data removed]",
       "text": [
        "<matplotlib.figure.Figure at 0x4005150>"
       ]
      }
     ],
     "prompt_number": 41
    },
    {
     "cell_type": "code",
     "collapsed": false,
     "input": [
      "plot(weight, vol)"
     ],
     "language": "python",
     "metadata": {
      "slideshow": {
       "slide_type": "skip"
      }
     },
     "outputs": [
      {
       "metadata": {},
       "output_type": "pyout",
       "prompt_number": 42,
       "text": [
        "[<matplotlib.lines.Line2D at 0x44a5710>]"
       ]
      },
      {
       "metadata": {},
       "output_type": "display_data",
       "png": "[encoded data removed]",
       "text": [
        "<matplotlib.figure.Figure at 0x4020f90>"
       ]
      }
     ],
     "prompt_number": 42
    },
    {
     "cell_type": "markdown",
     "metadata": {
      "slideshow": {
       "slide_type": "slide"
      }
     },
     "source": [
      "### [Lab 3, Exercise 3](https://docs.google.com/document/d/1ANWBTbUPTIh_tL5QjEm4udTCBL0COGJNRzAp5StX5wg/edit?usp=sharing): making your first plot"
     ]
    },
    {
     "cell_type": "markdown",
     "metadata": {},
     "source": [
      "## Other types of plots\n",
      "\n",
      "### Bar plots\n",
      "\n",
      "* http://stackoverflow.com/questions/11617719/how-to-plot-a-very-simple-bar-chart-python-matplotlib-using-input-txt-file\n",
      "* http://scienceoss.com/bar-plot-with-custom-axis-labels/"
     ]
    },
    {
     "cell_type": "markdown",
     "metadata": {
      "slideshow": {
       "slide_type": "slide"
      }
     },
     "source": [
      "## Drawing conclusions\n",
      "\n",
      "1. Adding labels\n",
      "2. Writing a sentence summary"
     ]
    },
    {
     "cell_type": "markdown",
     "metadata": {
      "slideshow": {
       "slide_type": "skip"
      }
     },
     "source": [
      "### Adding labels\n",
      "\n",
      "Pretty self-explanatory with the sample code. The things you keep are the `plt.figure()` and `.add_subplot(111)`. The `111` just means that you are adding a subplot to fill the entire space of the plot window."
     ]
    },
    {
     "cell_type": "code",
     "collapsed": false,
     "input": [
      "fig = plt.figure()\n",
      "ax = fig.add_subplot(111)\n",
      "ax.set_title('Oyster weight and volume')\n",
      "ax.set_xlabel('Oyster weight (g)')\n",
      "ax.set_ylabel('Oyster volume (cc)')\n",
      "ax.scatter(weight, vol)\n",
      "# this saves the figure in a file\n",
      "fig.savefig(\"oyster_with_titles.png\")"
     ],
     "language": "python",
     "metadata": {
      "slideshow": {
       "slide_type": "skip"
      }
     },
     "outputs": [
      {
       "metadata": {},
       "output_type": "pyout",
       "prompt_number": 44,
       "text": [
        "<matplotlib.collections.PathCollection at 0x44db390>"
       ]
      },
      {
       "metadata": {},
       "output_type": "display_data",
       "png": "[encoded data removed]",
       "text": [
        "<matplotlib.figure.Figure at 0x42c7b50>"
       ]
      }
     ],
     "prompt_number": 44
    },
    {
     "cell_type": "markdown",
     "metadata": {
      "slideshow": {
       "slide_type": "skip"
      }
     },
     "source": [
      "There is a clear relationship between the weight and volumes of oysters - the bigger the oyster, the heavier it is."
     ]
    }
   ],
   "metadata": {}
  }
 ]
}