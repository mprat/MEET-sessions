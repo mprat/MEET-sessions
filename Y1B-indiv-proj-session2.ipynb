{
 "metadata": {
  "name": ""
 },
 "nbformat": 3,
 "nbformat_minor": 0,
 "worksheets": [
  {
   "cells": [
    {
     "cell_type": "code",
     "collapsed": false,
     "input": [
      "import csv\n",
      "\n",
      "f = open('30oysters.csv', 'rb')\n",
      "reader = csv.reader(f)\n",
      "weight = []\n",
      "volume = []\n",
      "\n",
      "for row in reader:\n",
      "    a = map(float, row[0].split())\n",
      "    weight.append(a[1])\n",
      "    volume.append(a[2])\n",
      "\n",
      "print weight \n",
      "print volume\n",
      "\n",
      "f.close()"
     ],
     "language": "python",
     "metadata": {},
     "outputs": [
      {
       "output_type": "stream",
       "stream": "stdout",
       "text": [
        "[12.92, 11.4, 17.42, 6.79, 9.62, 15.5, 9.66, 7.02, 12.56, 12.49, 10.12, 10.64, 12.99, 8.09, 14.09, 10.73, 15.17, 15.5, 5.22, 7.75, 10.71, 7.91, 6.93, 13.63, 7.67, 11.27, 10.98, 8.87, 13.68, 14.27]\n",
        "[13.04, 11.71, 17.42, 7.23, 10.03, 15.59, 9.94, 7.53, 12.73, 12.66, 10.53, 10.84, 13.12, 8.48, 14.24, 11.11, 15.35, 15.44, 5.67, 8.26, 10.95, 7.97, 7.34, 13.21, 7.83, 11.38, 11.22, 9.25, 13.75, 14.37]\n"
       ]
      }
     ],
     "prompt_number": 2
    },
    {
     "cell_type": "code",
     "collapsed": false,
     "input": [
      "from pylab import *"
     ],
     "language": "python",
     "metadata": {},
     "outputs": [],
     "prompt_number": 3
    },
    {
     "cell_type": "code",
     "collapsed": false,
     "input": [
      "scatter(weight, volume)"
     ],
     "language": "python",
     "metadata": {},
     "outputs": [
      {
       "metadata": {},
       "output_type": "pyout",
       "prompt_number": 6,
       "text": [
        "<matplotlib.collections.PathCollection at 0xa860fec>"
       ]
      },
      {
       "metadata": {},
       "output_type": "display_data",
       "png": "[encoded data removed]",
       "text": [
        "<matplotlib.figure.Figure at 0xa52598c>"
       ]
      }
     ],
     "prompt_number": 6
    },
    {
     "cell_type": "markdown",
     "metadata": {},
     "source": [
      "This plot shows that there is a relationship between oyster weight and volume. As the weight increases, the volume increases."
     ]
    }
   ],
   "metadata": {}
  }
 ]
}