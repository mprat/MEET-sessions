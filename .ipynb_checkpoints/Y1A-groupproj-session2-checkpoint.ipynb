{
 "metadata": {
  "name": ""
 },
 "nbformat": 3,
 "nbformat_minor": 0,
 "worksheets": [
  {
   "cells": [
    {
     "cell_type": "markdown",
     "metadata": {
      "slideshow": {
       "slide_type": "slide"
      }
     },
     "source": [
      "## Organizing code into classes\n",
      "\n",
      "* How do you know what should be a class?\n",
      "* A class is a way to reuse code"
     ]
    },
    {
     "cell_type": "markdown",
     "metadata": {
      "slideshow": {
       "slide_type": "notes"
      }
     },
     "source": [
      "* Reuseable chunks of code - identify reuseable chunks (i.e. we need to have a button more than once - that should be a class)\n",
      "    * \"What kinds of interface elements do you reuse\"\n",
      "* Pygame gives you nothing, so you need to do everything from scratch"
     ]
    },
    {
     "cell_type": "markdown",
     "metadata": {
      "slideshow": {
       "slide_type": "slide"
      }
     },
     "source": [
      "## Splitting up tasks in a group"
     ]
    },
    {
     "cell_type": "markdown",
     "metadata": {
      "slideshow": {
       "slide_type": "notes"
      }
     },
     "source": [
      "* 2 people work on \"object classes\"\n",
      "* 2 people work on \"display classes\"\n",
      "* 1 person works on \"main method\"\n",
      "\n",
      "* \"Main method\" person is the coordinator. He will say \"I need the button class to have a \"clear\" method.\" \n",
      "* Everyone who writes \"object classes\" will have to write their own \"main method\" to test that what they wrote work. \n",
      "* \"Display classes\" people will work closely with the \"main method\" person to test their classes."
     ]
    },
    {
     "cell_type": "markdown",
     "metadata": {
      "slideshow": {
       "slide_type": "slide"
      }
     },
     "source": [
      "## Github and group projects"
     ]
    },
    {
     "cell_type": "markdown",
     "metadata": {
      "slideshow": {
       "slide_type": "notes"
      }
     },
     "source": [
      "* Your main project repository lives on the meet-projects group on Github (each group got their own URL - if you forget, go to [http://github.com/meet-projects](http://github.com/meet-projects) and find your project.\n",
      "* To copy your project files, do \n",
      "```\n",
      "git clone http://github.com/meet-projects/YOUR_PROJECT_NAME\n",
      "```\n",
      "in the terminal\n",
      "* When you are done:"
     ]
    },
    {
     "cell_type": "markdown",
     "metadata": {
      "slideshow": {
       "slide_type": "slide"
      }
     },
     "source": [
      "```\n",
      "git add --all\n",
      "git commit -am \"a comment about what you did\"\n",
      "git pull\n",
      "git push \n",
      "```"
     ]
    },
    {
     "cell_type": "markdown",
     "metadata": {
      "slideshow": {
       "slide_type": "notes"
      }
     },
     "source": [
      "* Important that when you push, you LOOK AT THE MESSAGE. If it says FAILED or CONFLICT, call over an instructor or TA to fix it."
     ]
    },
    {
     "cell_type": "markdown",
     "metadata": {
      "slideshow": {
       "slide_type": "notes"
      }
     },
     "source": [
      "* Need to tell all the groups their Github accounts\n",
      "* Merge conflicts? (I think the best way to do this one is in real time)\n",
      "* Explain a bit more how to split up roles\n",
      "    * what the role of the \"main\" person is\n",
      "    * \"how you test your classes\"?"
     ]
    }
   ],
   "metadata": {}
  }
 ]
}