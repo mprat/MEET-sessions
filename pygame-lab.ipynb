{
 "metadata": {
  "name": ""
 },
 "nbformat": 3,
 "nbformat_minor": 0,
 "worksheets": [
  {
   "cells": [
    {
     "cell_type": "markdown",
     "metadata": {},
     "source": [
      "# Lab4, part 2: Pygame\n",
      "\n",
      "## Exercise 1\n",
      "\n",
      "Play with pygame, since that is what we are going to be using for the group project. Copy the following code into a new file under Lab4 (name it pygame_example.py) and try to understand exactly what is happening in the code. Change some parameters - see what changes. \n",
      "\n",
      "```\n",
      "import pygame\n",
      "\n",
      "if __name__==\"__main__\":\n",
      "    pygame.init()\n",
      "    screen_size = 400\n",
      "    main_screen = pygame.display.set_mode((screen_size, screen_size))\n",
      "    main_screen.fill((255,255,255))\n",
      "    square = pygame.Surface([20, 20])\n",
      "\n",
      "    while True:\n",
      "        ev = pygame.event.poll()\n",
      "        if ev.type == pygame.QUIT:\n",
      "            sys.exit()\n",
      "        if ev.type == pygame.MOUSEBUTTONDOWN:\n",
      "            x, y = ev.pos\n",
      "            if square.get_bounding_rect().collidepoint(x, y):\n",
      "                print \"clicked\"\n",
      "        main_screen.blit(square, (0, 0))\n",
      "        pygame.display.flip()\n",
      "```"
     ]
    },
    {
     "cell_type": "markdown",
     "metadata": {},
     "source": [
      "## Exercise 2\n",
      "\n",
      "1. In the previous exercise you had the variable `square = pygame.Surface([20, 20])` that creates a box on the screen. Instead of doing this with an instance of the `Surface` class, we want to do this with a custom class of ours. In the `pygame_example.py` file, above the main method but below the `import pygame` statement, create a new class that subclasses the pygame Surface class. The class header should look like this: \n",
      "```\n",
      "class MySurface(pygame.Surface):\n",
      "    ....\n",
      "```\n",
      "\n",
      "2. Your custom surface class should store it's own color in a variable.\n",
      "3. Change the `square` from the original main code to use your own custom `MySurface` class.\n",
      "4. Test to make sure it works, and when you are done, call an instructor / TA over for a demo"
     ]
    }
   ],
   "metadata": {}
  }
 ]
}