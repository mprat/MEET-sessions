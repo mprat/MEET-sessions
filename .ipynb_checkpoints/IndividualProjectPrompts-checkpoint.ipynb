{
 "metadata": {
  "name": ""
 },
 "nbformat": 3,
 "nbformat_minor": 0,
 "worksheets": [
  {
   "cells": [
    {
     "cell_type": "markdown",
     "metadata": {},
     "source": [
      "## Individual Project Prompts ##\n",
      "\n",
      "1. Make my morning better with an app. Here are some problems (you can think of others):\n",
      "    * I hit snooze too much\n",
      "    * Getting out of bed in the morning is hard\n",
      "    * I turn off my alarm and sleep through it\n",
      "2. Make my diary / journal / Twitter / blog experience better\n",
      "    * I want to write / blog / journal every day but have a hard time thinking of what to write\n",
      "    * I want to publish a status to Facebook and Twitter at the same time, every day, with a picture."
     ]
    }
   ],
   "metadata": {}
  }
 ]
}