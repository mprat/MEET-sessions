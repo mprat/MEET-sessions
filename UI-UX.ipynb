{
 "metadata": {
  "name": ""
 },
 "nbformat": 3,
 "nbformat_minor": 0,
 "worksheets": [
  {
   "cells": [
    {
     "cell_type": "markdown",
     "metadata": {
      "slideshow": {
       "slide_type": "slide"
      }
     },
     "source": [
      "# User Interface (UI) / User Experience (UX)\n",
      "\n",
      "* What is the difference between UI and UX?\n",
      "    * UI: the actual interface - colors, button placements, etc.\n",
      "    * UX: the total experience; how a user feels when they use the interface"
     ]
    },
    {
     "cell_type": "markdown",
     "metadata": {
      "slideshow": {
       "slide_type": "slide"
      }
     },
     "source": [
      "* Content is still important\n",
      "* For today we are going to assume you have good content and are just thinking of how to display it in a sensible way"
     ]
    },
    {
     "cell_type": "markdown",
     "metadata": {
      "slideshow": {
       "slide_type": "slide"
      }
     },
     "source": [
      "## Principles of UI / UX\n",
      "\n",
      "1. **Learnability** - is it easy to use?\n",
      "2. **Efficiency** - once you learn it, is it fast to use?\n",
      "3. **Safety** - are errors few and recoverable?\n",
      "4. **Aesthetics** - satisfaction / happiness of user?\n",
      "5. **Ergonomics** - is it comfortable / exhausting to use?\n",
      "\n",
      "Which ones you care about matter on the application. For example: missile launch, subway turnstile, experts, novices"
     ]
    },
    {
     "cell_type": "markdown",
     "metadata": {
      "slideshow": {
       "slide_type": "skip"
      }
     },
     "source": [
      "* Missile launcher: safety\n",
      "* Subway turnstile: efficiency\n",
      "* Experts: efficiency\n",
      "* Novices: learnability"
     ]
    },
    {
     "cell_type": "markdown",
     "metadata": {
      "slideshow": {
       "slide_type": "slide"
      }
     },
     "source": [
      "## Design process\n",
      "\n",
      "* What kinds of users do you have? \n",
      "    * computer experience, age, motivation, goals, education, language, age?\n",
      "* What are your major goals?\n",
      "* Useability spiral cycle: design -> implement -> test\n",
      "* Parallel early prototypes will expose UI problems"
     ]
    },
    {
     "cell_type": "markdown",
     "metadata": {
      "slideshow": {
       "slide_type": "slide"
      }
     },
     "source": [
      "Compare these three scroll bars:\n",
      "\n",
      "<img src=\"files/imgs/scrollbars.png\" width=400px>"
     ]
    },
    {
     "cell_type": "markdown",
     "metadata": {
      "slideshow": {
       "slide_type": "slide"
      }
     },
     "source": [
      "## Understanding the user\n",
      "\n",
      "* Common mistake: describing what you WANT your users to be, rather than what they are\n",
      "* YOU are not the user (most likely)\n",
      "* **The user is always right in behavior**. If they fail in doing something with your interface, the interface was not easy to use. They are not good at giving suggestions, but they are never wrong in their reactions.\n",
      "* Important to do user testing"
     ]
    },
    {
     "cell_type": "markdown",
     "metadata": {
      "slideshow": {
       "slide_type": "slide"
      }
     },
     "source": [
      "## How do you know what the user really wants?\n",
      "\n",
      "* Telephone handset weight\n",
      "* A/B testing"
     ]
    },
    {
     "cell_type": "markdown",
     "metadata": {
      "slideshow": {
       "slide_type": "slide"
      }
     },
     "source": [
      "## Simple UI guidelines: Color\n",
      "\n",
      "1. Color is good, but think about color blindness, distinguishability, and experience. \n",
      "    * If two colors are too different, your eye can't focus on it well. Do don't do something like red colors on blue background\n",
      "2. Blue is often confused with dark. Don't use blue on dark backgrounds where detail matters\n",
      "3. Color is specified on RGB scale most often\n",
      "    * What is **alpha**?\n",
      "    * In HTML / CSS, also in HEX\n",
      "    * Show example\n",
      "4. Strongly saturated colors hurt the eyes. Softer colors are better.\n",
      "5. Background colors should contrast the foreground\n",
      "6. Use existing colors (red is STOP, green is GO)"
     ]
    },
    {
     "cell_type": "markdown",
     "metadata": {
      "slideshow": {
       "slide_type": "slide"
      }
     },
     "source": [
      "## Simple UI guidelines: Typography\n",
      "\n",
      "1. Readability is important: how fast can it be read, how easy is it to read?\n",
      "\n",
      "    <img src=\"files/imgs/fontspacing.png\" width=800px>\n",
      "    \n",
      "   Use a lot of leading!\n",
      "\n",
      "2. Font sizes in CSS\n",
      "3. Use whitespace around all text\n",
      "4. Make paragraphs narrow (~12-15 words)\n",
      "5. Serif (Georgia, Times New Roman) vs. sans-serif (Arial, Verdana). Use serif for paragraphs / long text and sans serif for display text / titles\n",
      "6. Don't use more than 2-3 typefaces\n",
      "7. Don't use more than one font from a typeface (i.e. one sans serif)\n",
      "8. Use weights and styles to establish contrasts"
     ]
    },
    {
     "cell_type": "markdown",
     "metadata": {
      "slideshow": {
       "slide_type": "slide"
      }
     },
     "source": [
      "Pretend you are organizing a TEDx conference. You want to let anyone sign up to give a talk. In your groups, write down the following: \n",
      "\n",
      "1. Who are your users? What are their characteristics?\n",
      "2. Draw three possible interfaces to accomplish this task. "
     ]
    },
    {
     "cell_type": "markdown",
     "metadata": {
      "slideshow": {
       "slide_type": "slide"
      }
     },
     "source": [
      "Pretend you are a company that is making a pizza-ordering app (you decide whether it is mobile or website). In your groups, write down the following: \n",
      "\n",
      "1. Who are your users? What are their characteristics?\n",
      "2. Draw three possible interfaces to accomplish this task. \n",
      "3. We will practice testing our prototypes using both Wizard of Oz and paper prototype techniques."
     ]
    },
    {
     "cell_type": "markdown",
     "metadata": {
      "slideshow": {
       "slide_type": "slide"
      }
     },
     "source": [
      "## Prototype quickly, prototype often\n",
      "\n",
      "* paper prototypes\n",
      "* \"Wizard of Oz\" prototypes\n",
      "* computer prototypes (Twitter Bootstrap)"
     ]
    },
    {
     "cell_type": "markdown",
     "metadata": {
      "slideshow": {
       "slide_type": "skip"
      }
     },
     "source": [
      "* Design around user experience.\n",
      "* \"know your space\" to figure out what buttons you need, the flow of the app, necessary components, eetc\n",
      "* need good examples and bad examples\n",
      "* talk about A/B testing\n",
      "* look at Rob Miller's notes, but should mostly be a discussion of good / bad examples\n",
      "* set useability metrics / goals (i.e. user should be able to complete a purchase in 30 seconds)"
     ]
    }
   ],
   "metadata": {}
  }
 ]
}