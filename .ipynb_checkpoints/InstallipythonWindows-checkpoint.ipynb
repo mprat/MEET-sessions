{
 "metadata": {
  "name": ""
 },
 "nbformat": 3,
 "nbformat_minor": 0,
 "worksheets": [
  {
   "cells": [
    {
     "cell_type": "markdown",
     "metadata": {},
     "source": [
      "## Installing ipython notebook on Windows\n",
      "\n",
      "1. Download and install [Enthought Canopy](http://www.enthought.com/downloads/), the free version. This might take some time. When you open it and it asks you to make Canopy the default environment for python, say yes. \n",
      "2. Open `cmd.exe` by going to the Start menu and searching for `cmd.exe`. This is a version of the terminal for Windows (it has slightly different commands than the Linux terminal, but you shouldn't need many). It should look like this:\n",
      "<img src=\"files/imgs/cmd.png\" width=600>\n",
      "3. Type: `enpkg enstaller` and press enter. \n",
      "4. Type: `enpkg ipython` and press enter"
     ]
    },
    {
     "cell_type": "markdown",
     "metadata": {},
     "source": [
      "## To open ipython notebook\n",
      "\n",
      "Now when you want to actually work on `ipython notebook`, you need to run it from the cmd prompt, NOT the Enthought Canopy program you just downloaded. \n",
      "\n",
      "1. Open `cmd.exe`\n",
      "2. In the Windows command prompt, the Linux `ls` command is called `dir`. `cd` is the same. You need to `dir` / `cd` into the folder where you want to save all your ipython notebooks in (and save all your images, datasets, etc): \n",
      "<img src=\"files/imgs/dir_cd.png\" width=600>\n",
      "3. In the cmd prompt, to open ipython notebook, type `ipython notebook --pylab inline`. This will open the ipython notebook in Firefox. Create a new ipython notebook by clicking \"New Notebook\". This is where you do all your work!\n",
      "<img src=\"files/imgs/ipythonnotebookopen.png\" width=600>"
     ]
    }
   ],
   "metadata": {}
  }
 ]
}