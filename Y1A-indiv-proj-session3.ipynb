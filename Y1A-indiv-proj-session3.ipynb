{
 "metadata": {
  "name": ""
 },
 "nbformat": 3,
 "nbformat_minor": 0,
 "worksheets": [
  {
   "cells": [
    {
     "cell_type": "markdown",
     "metadata": {},
     "source": [
      "* installing nbviewer bookmarklet on the demo laptop\n",
      "* I'm cutting a few corners for you but it's ok\n",
      "* have a goal in mind - what do you want to show?\n",
      "* which kind of plot works best? (line or dot) (plot() or scatter())\n",
      "* what columns of data do I need?\n",
      "* GO\n",
      "* remind about where to run ipython notebook from\n",
      "* git pull\n",
      "* did not make it clear that lab3 is all in the same notebook - it's ok\n",
      "* show them nbviewer (or at least how I will see their notebooks on my computer)"
     ]
    }
   ],
   "metadata": {}
  }
 ]
}