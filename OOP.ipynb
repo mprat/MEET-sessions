{
 "metadata": {
  "name": ""
 },
 "nbformat": 3,
 "nbformat_minor": 0,
 "worksheets": [
  {
   "cells": [
    {
     "cell_type": "markdown",
     "metadata": {},
     "source": [
      "# Object-Oriented Programming\n",
      "\n",
      "## Terms\n",
      "\n",
      "* Class\n",
      "* Object\n",
      "* Instance\n",
      "* Subclass\n",
      "* Method / function\n",
      "* Inheritance\n",
      "* Abstraction\n",
      "* Hierarchy\n",
      "* Model\n",
      "* DRY\n",
      "* type"
     ]
    },
    {
     "cell_type": "markdown",
     "metadata": {},
     "source": [
      "## Context\n",
      "\n",
      "1. Building a system (like a car, a website, a database) is hard, so we break it down into small pieces. \n",
      "2. We don't want to redo previous work (**DRY principle**, or the \"don't repeat yourself\" principle)\n",
      "\n",
      "**Object-oriented programming** (OOP) is a technique to break down problems / systems into smaller pieces and save us time in the process. It is also a way to customize already-implemented pieces of code (sometimes). "
     ]
    },
    {
     "cell_type": "markdown",
     "metadata": {},
     "source": [
      "## Definitions\n",
      "\n",
      "* **Class** - a definition or a type. Has variables and methods (it knows things and can do things). \n",
      "* **Object** - a specific instance of a class\n",
      "\n",
      "Example: I describe a class called \"student\", and every student has a \"grade\" and a \"grade level\" and a \"name\". The specific student \"Nina\" is an object. \n",
      "\n",
      "A **class** is a description, an **object** is a specific version of the description.\n",
      "\n",
      "When you create an **object**, you are **initializing** or **instantiating** a class. That **object** is of **type** class."
     ]
    },
    {
     "cell_type": "markdown",
     "metadata": {},
     "source": [
      "## Definition\n",
      "\n",
      "* **Subclass** - a class that **inherits** from another class. It adds things to an already-created class. It is of **type** itself and it's superclass. \n",
      "* **Superclass** - the class that a subclass inherits from\n",
      "\n",
      "A subclass has all the variables and methods from the superclass"
     ]
    },
    {
     "cell_type": "markdown",
     "metadata": {},
     "source": [
      "## Example\n",
      "\n",
      "Animal hierarchy: lion, tiger, bird, human, spider."
     ]
    },
    {
     "cell_type": "markdown",
     "metadata": {},
     "source": [
      "OOP is useful for both implementation and design."
     ]
    },
    {
     "cell_type": "markdown",
     "metadata": {},
     "source": [
      "DEBRIEF / SOLUTION ON SHAPE EXERCISE\n",
      "\n",
      "DISCUSSION OF ADDING AN \"AREA\" METHOD"
     ]
    },
    {
     "cell_type": "markdown",
     "metadata": {},
     "source": [
      "NEED AN \"is-a\" / \"has-a\" LIST OF THINGS TO GO OVER"
     ]
    },
    {
     "cell_type": "markdown",
     "metadata": {},
     "source": [
      "## Classes in Python"
     ]
    },
    {
     "cell_type": "code",
     "collapsed": false,
     "input": [
      "class Student(object):\n",
      "    def __init__(self, name_to_set=\"\", year_to_set=0, grade=100):\n",
      "        self.name = name_to_set\n",
      "        self.year = year_to_set\n",
      "        self.grade = grade\n",
      "    \n",
      "    def letter_grade(self):\n",
      "        if self.grade >= 90:\n",
      "            return \"A\"\n",
      "        elif self.grade >= 80: \n",
      "            return \"B\"\n",
      "        elif self.grade >= 70:\n",
      "            return \"C\"\n",
      "        elif self.grade >= 65:\n",
      "            return \"D\"\n",
      "        else: \n",
      "            return \"F\""
     ],
     "language": "python",
     "metadata": {},
     "outputs": [],
     "prompt_number": 11
    },
    {
     "cell_type": "markdown",
     "metadata": {},
     "source": [
      "* In Python, every class is a subclass of the master class **object**\n",
      "* By convention, Python class names should be `CamelCase` and method names should be `names_with_underscores_for_spaces`\n",
      "* I have \"default arguments\" in my function parameters"
     ]
    },
    {
     "cell_type": "code",
     "collapsed": false,
     "input": [
      "m = Student(\"Michele Pratusevich\", 2013)\n",
      "m.grade = 85\n",
      "print m.letter_grade()"
     ],
     "language": "python",
     "metadata": {},
     "outputs": [
      {
       "output_type": "stream",
       "stream": "stdout",
       "text": [
        "B\n"
       ]
      }
     ],
     "prompt_number": 33
    },
    {
     "cell_type": "markdown",
     "metadata": {},
     "source": [
      "## Subclasses in Python"
     ]
    },
    {
     "cell_type": "code",
     "collapsed": false,
     "input": [
      "class UniversityStudent(Student):\n",
      "    def __init__(self, name_to_set=\"\", year_to_set=\"\", uni=\"\"):\n",
      "        super(UniversityStudent, self).__init__(name_to_set, year_to_set)\n",
      "        self.university = uni\n",
      "    \n",
      "    def signature(self):\n",
      "        return self.name + \", \" + self.university + \" \" + str(self.year)"
     ],
     "language": "python",
     "metadata": {},
     "outputs": [],
     "prompt_number": 34
    },
    {
     "cell_type": "code",
     "collapsed": false,
     "input": [
      "n = UniversityStudent(\"Kyle Hannon\", 2013, \"MIT\")\n",
      "print n.name\n",
      "print n.grade\n",
      "print n.year\n",
      "print n.signature()\n",
      "print isinstance(m, UniversityStudent)\n",
      "print isinstance(m, Student)\n",
      "print isinstance(n, UniversityStudent)\n",
      "print isinstance(n, Student)"
     ],
     "language": "python",
     "metadata": {},
     "outputs": [
      {
       "output_type": "stream",
       "stream": "stdout",
       "text": [
        "Kyle Hannon\n",
        "100\n",
        "2013\n",
        "Kyle Hannon, MIT 2013\n",
        "False\n",
        "True\n",
        "True\n",
        "True\n"
       ]
      }
     ],
     "prompt_number": 40
    },
    {
     "cell_type": "markdown",
     "metadata": {},
     "source": [
      "## Writing for OOP\n",
      "\n",
      "* Let's assume you already decided on what class you will write\n",
      "* First, design. What variables will you need? What methods will you need?\n",
      "* What behavior do you want it to have? (how do you want to test it?)"
     ]
    }
   ],
   "metadata": {}
  }
 ]
}