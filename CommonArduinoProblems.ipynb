{
 "metadata": {
  "name": ""
 },
 "nbformat": 3,
 "nbformat_minor": 0,
 "worksheets": [
  {
   "cells": [
    {
     "cell_type": "markdown",
     "metadata": {},
     "source": [
      "## Common Problems ##\n",
      "\n",
      "* You get an `avrdude: stk500_getsync()` that looks something like this in the black error box: \n",
      "\n",
      "<img src=\"files/imgs/upload_not_sync.png\" width=300>\n",
      "\n",
      "The solution: Go to Tools -> Serial Port, and choose a different one. Try them all one by one until it works.\n",
      "\n",
      "* COM port doesn't exist. \n",
      "\n",
      "The solution: unplug and re-plug the USB cable."
     ]
    },
    {
     "cell_type": "code",
     "collapsed": false,
     "input": [],
     "language": "python",
     "metadata": {},
     "outputs": []
    }
   ],
   "metadata": {}
  }
 ]
}