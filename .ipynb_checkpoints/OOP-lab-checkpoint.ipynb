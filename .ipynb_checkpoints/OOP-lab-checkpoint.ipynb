{
 "metadata": {
  "name": ""
 },
 "nbformat": 3,
 "nbformat_minor": 0,
 "worksheets": [
  {
   "cells": [
    {
     "cell_type": "markdown",
     "metadata": {},
     "source": [
      "## Exercise 1\n",
      "\n",
      "Design a hierarchy of classes to model the hierarchy of the following shapes: square, circle, rectangle, rhombus, semi-circle, triangle, hexagon, octagon. For each class, list the variables in it. "
     ]
    },
    {
     "cell_type": "markdown",
     "metadata": {},
     "source": [
      "## Exercise 2\n",
      "\n",
      "Design a heirarchy of classes to model the different kinds of students there are: high school student, university student, PhD student."
     ]
    },
    {
     "cell_type": "markdown",
     "metadata": {},
     "source": [
      "## Exercise 3\n",
      "\n",
      "In the Lab4 folder (if you don't have one, make one) open a new file called MyNumber.py Create a class (in Python) that will represent negative numbers. It should have at least two variables, an `__init__` method, and a method that prints out the number (and any necessary negative sign). (_Hint: to start, you should first plan out the design of your class, decide how you will test that it is working, and only THEN start coding_). \n",
      "\n",
      "For reference, here is an example of a class written in Python."
     ]
    },
    {
     "cell_type": "code",
     "collapsed": false,
     "input": [
      "class Student(object):\n",
      "    def __init__(self, name_to_set=\"\", year_to_set=0, grade=100):\n",
      "        self.name = name_to_set\n",
      "        self.year = year_to_set\n",
      "        self.grade = grade\n",
      "    \n",
      "    def letter_grade(self):\n",
      "        if self.grade >= 90:\n",
      "            return \"A\"\n",
      "        elif self.grade >= 80: \n",
      "            return \"B\"\n",
      "        elif self.grade >= 70:\n",
      "            return \"C\"\n",
      "        elif self.grade >= 65:\n",
      "            return \"D\"\n",
      "        else: \n",
      "            return \"F\""
     ],
     "language": "python",
     "metadata": {},
     "outputs": []
    },
    {
     "cell_type": "markdown",
     "metadata": {},
     "source": [
      "When you finish this, you MUST put your name down for a \"checkoff\" with the instructor / TA. During a checkoff, the instructor / TA will ask you some questions about the code you wrote (and to explain what it is). "
     ]
    },
    {
     "cell_type": "markdown",
     "metadata": {},
     "source": [
      "## Exercise 4\n",
      "\n",
      "Now create a main method in the same file (at the bottom) and create two numbers, one positive and one negative. Write some code that proves that your class knows the difference between a positive and a negative number. "
     ]
    },
    {
     "cell_type": "markdown",
     "metadata": {},
     "source": [
      "## Exercise 5\n",
      "\n",
      "Play with pygame, since that is what we are going to be using for the group project. Copy the following code into a new file under Lab4 (name it pygame_example.py) and try to understand exactly what is happening in the code. Change some parameters - see what changes. \n",
      "\n",
      "```\n",
      "import pygame\n",
      "\n",
      "if __name__==\"__main__\":\n",
      "    pygame.init()\n",
      "    screen_size = 400\n",
      "    main_screen = pygame.display.set_mode((screen_size, screen_size))\n",
      "    main_screen.fill((255,255,255))\n",
      "    square = pygame.Surface([20, 20])\n",
      "\n",
      "    while True:\n",
      "        ev = pygame.event.poll()\n",
      "        if ev.type == pygame.QUIT:\n",
      "            sys.exit()\n",
      "        if ev.type == pygame.MOUSEBUTTONDOWN:\n",
      "            x, y = ev.pos\n",
      "            if square.get_bounding_rect().collidepoint(x, y):\n",
      "                print \"clicked\"\n",
      "        main_screen.blit(square, (0, 0))\n",
      "        pygame.display.flip()\n",
      "```"
     ]
    },
    {
     "cell_type": "markdown",
     "metadata": {},
     "source": [
      "## Exercise 6\n",
      "\n",
      "1. In the previous exercise you had the variable `square = pygame.Surface([20, 20])` that creates a box on the screen. Instead of doing this with an instance of the `Surface` class, we want to do this with a custom class of ours. In the pygame_example.py file, above the main method but below the `import pygame` statement, create a new class that subclasses the pygame Surface class. The class header should look like this: \n",
      "```\n",
      "class MySurface(pygame.Surface):\n",
      "    ....\n",
      "```\n",
      "\n",
      "2. Your custom surface class should store it's own color. \n",
      "3. The `square` from the original main code should be changed to use your own custom `MySurface` class.\n",
      "\n",
      "Test it to make sure it works. When you are done, you must complete a check-off with an instructor / TA. "
     ]
    }
   ],
   "metadata": {}
  }
 ]
}