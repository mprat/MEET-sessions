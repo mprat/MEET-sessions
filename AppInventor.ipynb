{
 "metadata": {
  "name": ""
 },
 "nbformat": 3,
 "nbformat_minor": 0,
 "worksheets": [
  {
   "cells": [
    {
     "cell_type": "markdown",
     "metadata": {},
     "source": [
      "Still relies on CS concepts. Don't get fooled!"
     ]
    },
    {
     "cell_type": "markdown",
     "metadata": {},
     "source": [
      "* Need a gmail account to access\n",
      "* Based on the biggest design principle in CS: design and functionality are in two different places. "
     ]
    },
    {
     "cell_type": "markdown",
     "metadata": {},
     "source": [
      "[Main website](http://appinventor.mit.edu)\n",
      "\n",
      "* Tutorials will teach you everything you need to know about basic things you can do:\n",
      "    1. Magic 8-ball\n",
      "    2. PaintPot\n",
      "* Show design editor\n",
      "    * New project\n",
      "    * Make a button and a text box\n",
      "    * Accidentally make another component and delete it\n",
      "* Open blocks editor (\"the code\")\n",
      "    * When click a button, set text to something\n",
      "* Connect phone to device\n",
      "* Save APK file"
     ]
    },
    {
     "cell_type": "markdown",
     "metadata": {},
     "source": [
      "## What do to now ##\n",
      "\n",
      "1. Do Magic 8-ball tutorial\n",
      "2. Do PaintPot tutorial\n",
      "3. Think about a project idea"
     ]
    }
   ],
   "metadata": {}
  }
 ]
}