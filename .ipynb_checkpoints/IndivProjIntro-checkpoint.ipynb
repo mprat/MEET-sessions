{
 "metadata": {
  "name": ""
 },
 "nbformat": 3,
 "nbformat_minor": 0,
 "worksheets": [
  {
   "cells": [
    {
     "cell_type": "markdown",
     "metadata": {},
     "source": [
      "## Context ##\n",
      "\n",
      "You are almost at the end of your MEET journey."
     ]
    },
    {
     "cell_type": "markdown",
     "metadata": {},
     "source": [
      "## Mobile Technology ##\n",
      "\n",
      "* How many students in the room have a mobile device?\n",
      "* Mobile is a VENUE, a SPACE, a DEPLOY MECHANISM\n",
      "* When can we reach users with mobile that we can't reach with web or desktop apps? What kinds of information can we get from a user that we can't get with web or desktop?\n",
      "    * With the user at all times (small)\n",
      "    * Location information\n",
      "    * Take photos\n",
      "    * Can detect when you shake it (accelerometer)\n",
      "* Why Android and not iOS?\n",
      "* Impact, prevalence of Android. How many students in the room have Android?"
     ]
    },
    {
     "cell_type": "markdown",
     "metadata": {},
     "source": [
      "## You and Technology Tools ##\n",
      "\n",
      "There are a million tools out there for development. You can't be an expert in one and that's it. You constantly need to learn more.\n",
      "\n",
      "* Tutorials are THE way to learn things\n",
      "* Want to get used to mobile space but still practice learning from tutorials, so we are choosing an \"easier\" technical tool\n",
      "\n",
      "## Project tools #\n",
      "\n",
      "* Design (both how it looks and how it works) is as important than being able to use the tools\n",
      "* We will practice having a plan and doing it"
     ]
    },
    {
     "cell_type": "markdown",
     "metadata": {},
     "source": [
      "##Student goals for individual project:##\n",
      "\n",
      "1. Learn to think about mobile technology space\n",
      "2. Read tutorials to learn how to do something\n",
      "3. Practice technical and aesthetic design\n",
      "4. Do something with MIT AppInventor from start to finish"
     ]
    },
    {
     "cell_type": "markdown",
     "metadata": {},
     "source": [
      "##Individual Project Info##\n",
      "\n",
      "* 3 class sessions (and any time you want at home). MINIMUM project required by the end of 3 sessions\n",
      "* Everyone will make an app\n",
      "* With everyone, we will come up with reasonable milestones"
     ]
    },
    {
     "cell_type": "markdown",
     "metadata": {},
     "source": [
      "## Briefly about Android apps ##\n",
      "\n",
      "* Android phones only understand Java\n",
      "* We will not use Java, but will use something that gets translated (compiled) into Java\n",
      "* App gets put into a package (a **.apk** file) that is all Java\n",
      "* Android phones can install arbitrary **.apk** files if you ask nicely"
     ]
    },
    {
     "cell_type": "markdown",
     "metadata": {},
     "source": [
      "## Our tool: AppInventor ##\n",
      "\n",
      "Might seem easy at first, but emphasizes good software design practices.\n",
      "\n",
      "[AppInventor information / demo](AppInventor.ipynb)"
     ]
    },
    {
     "cell_type": "markdown",
     "metadata": {},
     "source": [
      "## Terms ##\n",
      "\n",
      "* **accelerometer** - measures phone movement\n",
      "* **apk** - file extension for the bundle of files that make an app\n",
      "* **application / app** - bundle of files (compiled into Java) that have a specific purpose\n",
      "* **camera** - can be front or back facing\n",
      "* **event handler** - what happens as a result of something else happening. Listens for something to happen (the _event_) and triggers something else\n",
      "* **screen / touchscreen**"
     ]
    },
    {
     "cell_type": "markdown",
     "metadata": {},
     "source": [
      "## Your project requirements ##\n",
      "\n",
      "Go over handout of requirements."
     ]
    },
    {
     "cell_type": "markdown",
     "metadata": {},
     "source": [
      "## Ideas for your project ##\n",
      "\n",
      "[Individual Project Prompts](IndividualProjectPrompts.ipynb)"
     ]
    }
   ],
   "metadata": {}
  }
 ]
}