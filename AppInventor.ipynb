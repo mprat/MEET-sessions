{
 "metadata": {
  "name": ""
 },
 "nbformat": 3,
 "nbformat_minor": 0,
 "worksheets": [
  {
   "cells": [
    {
     "cell_type": "markdown",
     "metadata": {},
     "source": [
      "Still relies on CS concepts. Don't get fooled!"
     ]
    },
    {
     "cell_type": "markdown",
     "metadata": {},
     "source": [
      "* Need a gmail account to access\n",
      "* Based on the biggest design principle in CS: design and functionality are in two different places. "
     ]
    },
    {
     "cell_type": "markdown",
     "metadata": {},
     "source": [
      "We are using App Inventor 1 still - there was a recent update to App Inventor 2. \n",
      "\n",
      "[Tutorials](http://explore.appinventor.mit.edu/tutorials), if you filter by \"App Inventor 1\"\n",
      "\n",
      "[Documentation](http://appinventor.mit.edu/explore/support.html)\n",
      "\n",
      "[Editor](http://beta.appinventor.mit.edu)\n",
      "\n",
      "* Tutorials will teach you everything you need to know about basic things you can do:\n",
      "    1. Magic 8-ball\n",
      "    2. PaintPot\n",
      "* Show design editor\n",
      "    * New project\n",
      "    * Make a button and a text box\n",
      "    * Accidentally make another component and delete it\n",
      "* Open blocks editor (\"the code\")\n",
      "    * When click a button, set text to something\n",
      "* Connect phone to device\n",
      "* Save APK file"
     ]
    }
   ],
   "metadata": {}
  }
 ]
}