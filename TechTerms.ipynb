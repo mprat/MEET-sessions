{
 "metadata": {
  "name": ""
 },
 "nbformat": 3,
 "nbformat_minor": 0,
 "worksheets": [
  {
   "cells": [
    {
     "cell_type": "markdown",
     "metadata": {},
     "source": [
      "* **accelerometer** - measures phone movement\n",
      "* **apk** - file extension for the bundle of files that make an app\n",
      "* **application / app** - bundle of files (compiled into Java) that have a specific purpose\n",
      "* **camera** - can be front or back facing\n",
      "* **event handler** - what happens as a result of something else happening. Listens for something to happen (the _event_) and triggers something else\n",
      "* **screen / touchscreen**"
     ]
    },
    {
     "cell_type": "code",
     "collapsed": false,
     "input": [],
     "language": "python",
     "metadata": {},
     "outputs": []
    }
   ],
   "metadata": {}
  }
 ]
}