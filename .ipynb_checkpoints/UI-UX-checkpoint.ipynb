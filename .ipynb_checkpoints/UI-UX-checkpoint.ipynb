{
 "metadata": {
  "name": ""
 },
 "nbformat": 3,
 "nbformat_minor": 0,
 "worksheets": [
  {
   "cells": [
    {
     "cell_type": "markdown",
     "metadata": {
      "slideshow": {
       "slide_type": "slide"
      }
     },
     "source": [
      "Compare these three scroll bars:\n",
      "\n",
      "<img src=\"files/imgs/scrollbars.png\" width=600px>"
     ]
    },
    {
     "cell_type": "markdown",
     "metadata": {
      "slideshow": {
       "slide_type": "slide"
      }
     },
     "source": [
      "# User Interface (UI) / User Experience (UX)\n",
      "\n",
      "* What is the difference between UI and UX?\n",
      "    * UI: the actual interface - colors, button placements, etc.\n",
      "    * UX: the total experience; how a user feels when they use the interface"
     ]
    },
    {
     "cell_type": "markdown",
     "metadata": {
      "slideshow": {
       "slide_type": "fragment"
      }
     },
     "source": [
      "* Content is still important\n",
      "* For today we are going to assume you have good content and are just thinking of how to display it in a sensible way"
     ]
    },
    {
     "cell_type": "markdown",
     "metadata": {
      "slideshow": {
       "slide_type": "slide"
      }
     },
     "source": [
      "## Principles of UI / UX\n",
      "\n",
      "1. **Learnability** - is it easy to use?\n",
      "2. **Efficiency** - once you learn it, is it fast to use?\n",
      "3. **Safety** - are errors few and recoverable?\n",
      "4. **Aesthetics** - satisfaction / happiness of user?\n",
      "5. **Ergonomics** - is it comfortable / exhausting to use?\n",
      "\n",
      "Which ones you care about matter on the application. For example: missile launch, subway turnstile, experts, novices"
     ]
    },
    {
     "cell_type": "markdown",
     "metadata": {
      "slideshow": {
       "slide_type": "skip"
      }
     },
     "source": [
      "* Missile launcher: safety\n",
      "* Subway turnstile: efficiency\n",
      "* Experts: efficiency\n",
      "* Novices: learnability"
     ]
    },
    {
     "cell_type": "markdown",
     "metadata": {
      "slideshow": {
       "slide_type": "slide"
      }
     },
     "source": [
      "### Learnability\n",
      "\n",
      "[http://www.moma.org/interactives/exhibitions/2001/workspheres/](http://www.moma.org/interactives/exhibitions/2001/workspheres/)"
     ]
    },
    {
     "cell_type": "markdown",
     "metadata": {
      "slideshow": {
       "slide_type": "subslide"
      }
     },
     "source": [
      "* What is the metaphor that is used by the site?"
     ]
    },
    {
     "cell_type": "markdown",
     "metadata": {
      "slideshow": {
       "slide_type": "slide"
      }
     },
     "source": [
      "### Efficiency\n",
      "\n",
      "* Don't make your user need to be too precise with the mouse. Make margins clickable, make important buttons big\n",
      "* Keyboard shortcuts increase efficiency, but only if there is a way for users to learn them (ex: vim, emacs, Microsoft Word)\n",
      "* Attention focus - a user can only focus on one area of the screen at a time. Don't make it even harder for them."
     ]
    },
    {
     "cell_type": "markdown",
     "metadata": {
      "slideshow": {
       "slide_type": "slide"
      }
     },
     "source": [
      "## UI/UX Techniques\n",
      "\n",
      "* Consistency (internal, external, metaphorical)\n",
      "* Example: phone keyboard input, Swype keyboard input\n",
      "\n",
      "<img src=\"files/imgs/swype.png\" width=200px>\n",
      "<img src=\"files/imgs/droidx.jpg\" width=200px>"
     ]
    },
    {
     "cell_type": "markdown",
     "metadata": {
      "slideshow": {
       "slide_type": "slide"
      }
     },
     "source": [
      "* Example: Gmail contacts and Gmail compose\n",
      "\n",
      "<img src=\"files/imgs/gmail_contacts.png\" width=200px>\n",
      "<img src=\"files/imgs/gmail_compose.png\" width=200px>"
     ]
    },
    {
     "cell_type": "markdown",
     "metadata": {
      "slideshow": {
       "slide_type": "skip"
      }
     },
     "source": [
      "* Metaphors, but they can be a curse too. What are some metaphors that we use in computers? [desktop, trashcan]. Rule of thumb about metaphors: use one if it works, but don't force it"
     ]
    },
    {
     "cell_type": "markdown",
     "metadata": {
      "slideshow": {
       "slide_type": "slide"
      }
     },
     "source": [
      "* Example: RealCD CD player (who uses this?)\n",
      "\n",
      "<img src=\"files/imgs/realCDinterface.jpg\" width=400px>"
     ]
    },
    {
     "cell_type": "markdown",
     "metadata": {
      "slideshow": {
       "slide_type": "slide"
      }
     },
     "source": [
      "* Direct mapping to something physical (segway)\n",
      "\n",
      "* Consistency in wording. Don't use fancy words - use words that are accessible to all\n",
      "\n",
      "* \"Affordance\" - help the user with visual queues about what the UI does. What are some examples of this? [Down arrow in Firefox bookmarks bar; button hover and change color]\n",
      "\n",
      "* Give the user feedback for something you want them to do [button click; haptic feedback]. Something should change in 100ms or the user will notice"
     ]
    },
    {
     "cell_type": "markdown",
     "metadata": {
      "slideshow": {
       "slide_type": "slide"
      }
     },
     "source": [
      "## Exercise\n",
      "\n",
      "Take a look at the Ubuntu operating system that we have been using at MEET all the time. Discuss it in terms of UI / UX. Suggest 3 improvements to the UI that makes the UX better."
     ]
    },
    {
     "cell_type": "markdown",
     "metadata": {
      "slideshow": {
       "slide_type": "slide"
      }
     },
     "source": [
      "## Design process\n",
      "\n",
      "* What kinds of users do you have? \n",
      "    * computer experience, age, motivation, goals, education, language, age?\n",
      "* What are your major goals?\n",
      "* Useability spiral cycle: design -> implement -> test\n",
      "* Parallel early prototypes will expose UI problems"
     ]
    },
    {
     "cell_type": "markdown",
     "metadata": {
      "slideshow": {
       "slide_type": "slide"
      }
     },
     "source": [
      "## Understanding the user\n",
      "\n",
      "* Common mistake: describing what you WANT your users to be, rather than what they are\n",
      "* YOU are not the user (most likely)\n",
      "* **The user is always right in behavior**. If they fail in doing something with your interface, the interface was not easy to use. They are not good at giving suggestions, but they are never wrong in their reactions.\n",
      "* Important to do user testing"
     ]
    },
    {
     "cell_type": "markdown",
     "metadata": {
      "slideshow": {
       "slide_type": "slide"
      }
     },
     "source": [
      "## How do you know what the user really wants?\n",
      "\n",
      "* Telephone handset weight example\n",
      "* A/B testing"
     ]
    },
    {
     "cell_type": "markdown",
     "metadata": {
      "slideshow": {
       "slide_type": "slide"
      }
     },
     "source": [
      "## Simple UI guidelines: Color\n",
      "\n",
      "1. Color is good, but think about color blindness, distinguishability, and experience. \n",
      "    * If two colors are too different, your eye can't focus on it well. Do don't do something like red colors on blue background\n",
      "2. Blue is often confused with dark. Don't use blue on dark backgrounds where detail matters\n",
      "3. Color is specified on RGB scale most often\n",
      "    * What is **alpha**?\n",
      "    * In HTML / CSS, also in HEX\n",
      "    * Show example\n",
      "4. Strongly saturated colors hurt the eyes. Softer colors are better.\n",
      "5. Background colors should contrast the foreground\n",
      "6. Use existing colors (red is STOP, green is GO)"
     ]
    },
    {
     "cell_type": "markdown",
     "metadata": {
      "slideshow": {
       "slide_type": "slide"
      }
     },
     "source": [
      "<img src=\"files/imgs/fontspacing.png\" width=800px>"
     ]
    },
    {
     "cell_type": "markdown",
     "metadata": {
      "slideshow": {
       "slide_type": "slide"
      }
     },
     "source": [
      "## Simple UI guidelines: Typography\n",
      "\n",
      "1. Readability is important: how fast can it be read, how easy is it to read? Use a lot of leading!\n",
      "2. Font sizes in CSS\n",
      "3. Use whitespace around all text\n",
      "4. Make paragraphs narrow (~12-15 words)\n",
      "5. Serif (Georgia, Times New Roman) vs. sans-serif (Arial, Verdana). Use serif for paragraphs / long text and sans serif for display text / titles\n",
      "6. Don't use more than 2-3 typefaces\n",
      "7. Don't use more than one font from a typeface (i.e. one sans serif)\n",
      "8. Use weights and styles to establish contrasts"
     ]
    },
    {
     "cell_type": "markdown",
     "metadata": {
      "slideshow": {
       "slide_type": "slide"
      }
     },
     "source": [
      "## Exercise\n",
      "\n",
      "Pretend you are organizing a TEDx conference. You want to let anyone sign up to give a talk. In your groups, write down the following: \n",
      "\n",
      "1. Who are your users? What are their characteristics?\n",
      "2. Draw three possible interfaces to accomplish this task. "
     ]
    },
    {
     "cell_type": "markdown",
     "metadata": {
      "slideshow": {
       "slide_type": "slide"
      }
     },
     "source": [
      "## Exercise\n",
      "\n",
      "In your groups, compare Amazon and Ebay. \n",
      "\n",
      "1. Who are the customers? What are their characteristics?\n",
      "2. Which is it easier to buy a pair of socks on?\n",
      "3. Which is it easier to buy a box of pens on?\n",
      "4. Which is it easier to sell a radio on?\n",
      "5. Which is it easier to buy textbooks from?\n",
      "6. How long does it take you to actually buy something on each of the sites?\n",
      "7. Suggest two UI improvements to Amazon and two UI improvements to Ebay."
     ]
    },
    {
     "cell_type": "markdown",
     "metadata": {
      "slideshow": {
       "slide_type": "slide"
      }
     },
     "source": [
      "## Exercise\n",
      "\n",
      "Pretend you are a company that is making a pizza-ordering app (you decide whether it is mobile or website). In your groups, write down the following: \n",
      "\n",
      "1. Who are your users? What are their characteristics?\n",
      "2. Draw three possible interfaces to accomplish this task. \n",
      "3. We will practice testing our prototypes using both Wizard of Oz and paper prototype techniques."
     ]
    },
    {
     "cell_type": "markdown",
     "metadata": {
      "slideshow": {
       "slide_type": "slide"
      }
     },
     "source": [
      "## Prototype quickly, prototype often\n",
      "\n",
      "* paper prototypes\n",
      "* \"Wizard of Oz\" prototypes\n",
      "* computer prototypes (Twitter Bootstrap)"
     ]
    },
    {
     "cell_type": "markdown",
     "metadata": {
      "slideshow": {
       "slide_type": "skip"
      }
     },
     "source": [
      "* Design around user experience.\n",
      "* \"know your space\" to figure out what buttons you need, the flow of the app, necessary components, eetc\n",
      "* need good examples and bad examples\n",
      "* talk about A/B testing\n",
      "* look at Rob Miller's notes, but should mostly be a discussion of good / bad examples\n",
      "* set useability metrics / goals (i.e. user should be able to complete a purchase in 30 seconds)"
     ]
    },
    {
     "cell_type": "markdown",
     "metadata": {
      "slideshow": {
       "slide_type": "slide"
      }
     },
     "source": [
      "## General UI / UX techniques\n",
      "\n",
      "* Look at examples of good UI / UX\n",
      "* Cool technique: check what a webpage is telling you nonverbally. Paste this chunk of Javascript into the console: \n",
      "\n",
      "```\n",
      "var result = document.evaluate(\"//text()\", document.body, null, XPathResult.UNORDERED_NODE_SNAPSHOT_TYPE, null);for (var i = 0; i < result.snapshotLength; ++i) {var node = result.snapshotItem(i);if ((node.textContent+\"\").match(/\\w/)&&node.parentNode.nodeName != \"STYLE\") {node.textContent = node.textContent.replace(/[A-\u00ad\u2010Z0-\u00ad\u20109]/g, \"X\").replace(/[a-\u00ad\u2010z]/g, \"x\");}}void 0\n",
      "```"
     ]
    }
   ],
   "metadata": {}
  }
 ]
}