{
 "metadata": {
  "name": ""
 },
 "nbformat": 3,
 "nbformat_minor": 0,
 "worksheets": [
  {
   "cells": [
    {
     "cell_type": "markdown",
     "metadata": {},
     "source": [
      "* Need to tell all the groups their Github accounts\n",
      "* Merge conflicts? (I think the best way to do this one is in real time)\n",
      "* Explain a bit more how to split up roles\n",
      "    * what the role of the \"main\" person is\n",
      "    * \"how you test your classes\"?"
     ]
    },
    {
     "cell_type": "code",
     "collapsed": false,
     "input": [],
     "language": "python",
     "metadata": {},
     "outputs": []
    }
   ],
   "metadata": {}
  }
 ]
}