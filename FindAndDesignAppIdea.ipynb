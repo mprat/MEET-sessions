{
 "metadata": {
  "name": ""
 },
 "nbformat": 3,
 "nbformat_minor": 0,
 "worksheets": [
  {
   "cells": [
    {
     "cell_type": "markdown",
     "metadata": {
      "slideshow": {
       "slide_type": "skip"
      }
     },
     "source": [
      "# Finding and Designing an App Idea for the Individual Project #"
     ]
    },
    {
     "cell_type": "markdown",
     "metadata": {
      "slideshow": {
       "slide_type": "slide"
      }
     },
     "source": [
      "##Student goals for individual project:##\n",
      "\n",
      "1. Learn to think about mobile technology space\n",
      "2. Read tutorials to learn how to do something\n",
      "3. Practice technical and aesthetic design\n",
      "4. Do something with MIT AppInventor from start to finish"
     ]
    },
    {
     "cell_type": "markdown",
     "metadata": {
      "slideshow": {
       "slide_type": "slide"
      }
     },
     "source": [
      "#Goal for the next hour: find and design your idea. #\n",
      "\n",
      "1. Idea\n",
      "2. Design"
     ]
    },
    {
     "cell_type": "markdown",
     "metadata": {
      "slideshow": {
       "slide_type": "slide"
      }
     },
     "source": [
      "##1. Idea ##\n",
      "\n",
      "### Individual Project Prompts ###\n",
      "\n",
      "1. Make my morning better with an app. Here are some problems (you can think of others):\n",
      "    * I hit snooze too much\n",
      "    * Getting out of bed in the morning is hard\n",
      "    * I turn off my alarm and sleep through it\n",
      "2. Make my diary / journal / Twitter / blog experience better\n",
      "    * I want to write / blog / journal every day but have a hard time thinking of what to write\n",
      "    * I want to publish a status to Facebook and Twitter at the same time, every day, with a picture.\n",
      "\n",
      "\n",
      "**Take 5 minutes of continuous brainstorm / writing.**\n",
      "\n",
      "** Take 5 minutes of choosing one idea.**"
     ]
    },
    {
     "cell_type": "markdown",
     "metadata": {
      "slideshow": {
       "slide_type": "slide"
      }
     },
     "source": [
      "##2. Project design##\n",
      "\n",
      "1. How it looks\n",
      "2. How it works\n",
      "\n",
      "**My idea**: create an alarm clock that has a snooze with a random number of minutes from 1-5."
     ]
    },
    {
     "cell_type": "markdown",
     "metadata": {
      "slideshow": {
       "slide_type": "slide"
      }
     },
     "source": [
      "## 1. How it looks ##\n",
      "\n",
      "(think templates)\n",
      "\n",
      "* What things do you need on your screen?\n",
      "* What buttons?\n",
      "* What areas to put pictures / tables / text?\n",
      "* How will your user know what to do?"
     ]
    },
    {
     "cell_type": "markdown",
     "metadata": {
      "slideshow": {
       "slide_type": "fragment"
      }
     },
     "source": [
      "Take 5 minutes and come up with a bunch of designs. "
     ]
    },
    {
     "cell_type": "markdown",
     "metadata": {
      "slideshow": {
       "slide_type": "fragment"
      }
     },
     "source": [
      "Take 5 minutes and choose one."
     ]
    },
    {
     "cell_type": "markdown",
     "metadata": {
      "slideshow": {
       "slide_type": "subslide"
      }
     },
     "source": [
      "<figure>\n",
      "<img src=\"files/imgs/app_sample_design.jpg\" width=800>\n",
      "<figcaption> My idea: create an alarm clock that has a snooze with a random number of minutes from 1-5.</figcaption>\n",
      "</figure>"
     ]
    },
    {
     "cell_type": "markdown",
     "metadata": {
      "slideshow": {
       "slide_type": "slide"
      }
     },
     "source": [
      "## 2. How it works ##\n",
      "\n",
      "(think controller, model, code design)\n",
      "\n",
      "* What parts connect to each other?\n",
      "* What kinds of functions do you need?\n",
      "* What pieces do you need to write?\n",
      "\n",
      "Exactly how you draw this is totally up to you. It's more like writing down all the pieces you need so you don't get confused."
     ]
    },
    {
     "cell_type": "markdown",
     "metadata": {
      "slideshow": {
       "slide_type": "fragment"
      }
     },
     "source": [
      "Take 5 minutes and come up with a tech picture outline."
     ]
    },
    {
     "cell_type": "markdown",
     "metadata": {
      "slideshow": {
       "slide_type": "subslide"
      }
     },
     "source": [
      "<figure>\n",
      "<img src=\"files/imgs/app_sample_tech.jpg\" width=800>\n",
      "<figcaption> My idea: create an alarm clock that has a snooze with a random number of minutes from 1-5.</figcaption>\n",
      "</figure>"
     ]
    },
    {
     "cell_type": "markdown",
     "metadata": {
      "slideshow": {
       "slide_type": "slide"
      }
     },
     "source": [
      "## Moving forward ##\n",
      "\n",
      "* From your design diagram, find out what components you need in AppInventor\n",
      "* For yourself (and you should tell me, I will ask you), answer the question **What is my simple milestone?**\n",
      "* If you need to, do more tutorials\n",
      "* Look at documentation\n",
      "* Go go go!"
     ]
    }
   ],
   "metadata": {}
  }
 ]
}