{
 "metadata": {
  "name": ""
 },
 "nbformat": 3,
 "nbformat_minor": 0,
 "worksheets": [
  {
   "cells": [
    {
     "cell_type": "markdown",
     "metadata": {},
     "source": [
      "* Show something on the screen\n",
      "* Click a button\n",
      "* blit\n",
      "* Go through sample program\n",
      "    * Change size\n",
      "    * Change fill color\n",
      "    * Change position of applied thing\n",
      "* Event polling"
     ]
    },
    {
     "cell_type": "markdown",
     "metadata": {},
     "source": [
      "```\n",
      "import pygame\n",
      "\n",
      "if __name__==\"__main__\":\n",
      "    pygame.init()\n",
      "    screen_size = 400\n",
      "    main_screen = pygame.display.set_mode((screen_size, screen_size))\n",
      "    main_screen.fill((255,255,255))\n",
      "    square = pygame.Surface([20, 20])\n",
      "\n",
      "    while True:\n",
      "        ev = pygame.event.poll()\n",
      "        if ev.type == pygame.QUIT:\n",
      "            sys.exit()\n",
      "        if ev.type == pygame.MOUSEBUTTONDOWN:\n",
      "            x, y = ev.pos\n",
      "            if square.get_bounding_rect().collidepoint(x, y):\n",
      "                print \"clicked\"\n",
      "        main_screen.blit(square, (0, 0))\n",
      "        pygame.display.flip()\n",
      "\n",
      "\t# pygame.quit()\n",
      "```"
     ]
    }
   ],
   "metadata": {}
  }
 ]
}