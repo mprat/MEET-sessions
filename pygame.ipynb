{
 "metadata": {
  "name": ""
 },
 "nbformat": 3,
 "nbformat_minor": 0,
 "worksheets": [
  {
   "cells": [
    {
     "cell_type": "markdown",
     "metadata": {
      "slideshow": {
       "slide_type": "slide"
      }
     },
     "source": [
      "# Pygame"
     ]
    },
    {
     "cell_type": "markdown",
     "metadata": {
      "slideshow": {
       "slide_type": "fragment"
      }
     },
     "source": [
      "```\n",
      "import pygame\n",
      "```\n",
      "\n",
      "Pygame docs: [https://www.pygame.org/docs/index.html](https://www.pygame.org/docs/index.html)"
     ]
    },
    {
     "cell_type": "markdown",
     "metadata": {
      "slideshow": {
       "slide_type": "skip"
      }
     },
     "source": [
      "A Python **module** that is mostly used to make games, but is also a great way to make GUIs in Python. It relies on the ideas of object-oriented programming, classes, and objects."
     ]
    },
    {
     "cell_type": "markdown",
     "metadata": {
      "slideshow": {
       "slide_type": "slide"
      }
     },
     "source": [
      "## A few concepts we need before using PyGame"
     ]
    },
    {
     "cell_type": "markdown",
     "metadata": {
      "slideshow": {
       "slide_type": "subslide"
      }
     },
     "source": [
      "### Sizes and locations"
     ]
    },
    {
     "cell_type": "markdown",
     "metadata": {
      "slideshow": {
       "slide_type": "skip"
      }
     },
     "source": [
      "* Everything is measured in pixels. A pixel is a dot on the screen.\n",
      "* The entire screen is an x, y coordinate system with the TOP LEFT corner being 0, 0"
     ]
    },
    {
     "cell_type": "markdown",
     "metadata": {
      "slideshow": {
       "slide_type": "fragment"
      }
     },
     "source": [
      "<img src=\"files/imgs/screenorigintopleft.png\" width=300px>"
     ]
    },
    {
     "cell_type": "markdown",
     "metadata": {
      "slideshow": {
       "slide_type": "subslide"
      }
     },
     "source": [
      "### RGB color"
     ]
    },
    {
     "cell_type": "markdown",
     "metadata": {
      "slideshow": {
       "slide_type": "skip"
      }
     },
     "source": [
      "* Computer screen (rendered) color is described by three numbers - Red, Green, and Blue (RGB).\n",
      "* Triplet (R, G, B) corresponds to the color, where each number is from 0 to 255. \n",
      "* For example: (255, 0, 0) is red; (0, 255, 0) is green; (255, 255, 255) is white; (0, 0, 0) is black "
     ]
    },
    {
     "cell_type": "markdown",
     "metadata": {
      "slideshow": {
       "slide_type": "subslide"
      }
     },
     "source": [
      "### Event polling / game loop"
     ]
    },
    {
     "cell_type": "markdown",
     "metadata": {
      "slideshow": {
       "slide_type": "skip"
      }
     },
     "source": [
      "* Instead of responding immediately when an event happens, hold a master \"list of events\" and based on what kind it is, respond to it.\n",
      "* A \"game loop\" or an \"event loop\" is used to access events. Basically, it is an infinite loop that keeps going for the entire time the game is running, and only stops when you stop the game. "
     ]
    },
    {
     "cell_type": "markdown",
     "metadata": {
      "slideshow": {
       "slide_type": "fragment"
      }
     },
     "source": [
      "An example of a game loop:\n",
      "\n",
      "```\n",
      "while True: \n",
      "    ev = pygame.event.poll()\n",
      "    if ev.type == pygame.QUIT: \n",
      "        sys.exit()\n",
      "    if ev.type == pygame.MOUSEBUTTONDOWN: \n",
      "        x, y = ev.pos\n",
      "        # do something with the click\n",
      "    pygame.display.flip()\n",
      "```"
     ]
    },
    {
     "cell_type": "markdown",
     "metadata": {
      "slideshow": {
       "slide_type": "subslide"
      }
     },
     "source": [
      "### Rectangles"
     ]
    },
    {
     "cell_type": "markdown",
     "metadata": {
      "slideshow": {
       "slide_type": "skip"
      }
     },
     "source": [
      "* Everything in pygame is organized by rectangles. You draw shapes and buttons into rectangles, you click on rectangles, you work with rectangles. A rectangle represents a space where you will draw something."
     ]
    },
    {
     "cell_type": "markdown",
     "metadata": {
      "slideshow": {
       "slide_type": "fragment"
      }
     },
     "source": [
      "The four numbers represent the (top left x coordinate, top left y coordinate, width, height)\n",
      "\n",
      "```\n",
      "button_rec = pygame.Rect(100, 200, 50, 20)\n",
      "```"
     ]
    },
    {
     "cell_type": "markdown",
     "metadata": {
      "slideshow": {
       "slide_type": "fragment"
      }
     },
     "source": [
      "<img src=\"files/imgs/rectexample.png\" width=270px>"
     ]
    },
    {
     "cell_type": "markdown",
     "metadata": {
      "slideshow": {
       "slide_type": "subslide"
      }
     },
     "source": [
      "### Surface"
     ]
    },
    {
     "cell_type": "markdown",
     "metadata": {
      "slideshow": {
       "slide_type": "skip"
      }
     },
     "source": [
      "* The type representing \"image on the screen.\" You can make it colorful or actually add an image to it. "
     ]
    },
    {
     "cell_type": "markdown",
     "metadata": {
      "slideshow": {
       "slide_type": "fragment"
      }
     },
     "source": [
      "For an image: \n",
      "```\n",
      "buttonimg = pygame.image.load('baby-bamba.jpg')\n",
      "```\n",
      "\n",
      "* The default size will be the size of the image. There is no way to resize it - if you need to resize it, use a photo-editing program like Gimp.\n",
      "\n",
      "For a square of color: \n",
      "```\n",
      "button_sq = pygame.Surface([20, 20])\n",
      "```"
     ]
    },
    {
     "cell_type": "markdown",
     "metadata": {
      "slideshow": {
       "slide_type": "subslide"
      }
     },
     "source": [
      "### Blit"
     ]
    },
    {
     "cell_type": "markdown",
     "metadata": {
      "slideshow": {
       "slide_type": "skip"
      }
     },
     "source": [
      "* Think of it like \"drawing on the screen.\" What it actually means is \"change the pixel color inside a rectangle\""
     ]
    },
    {
     "cell_type": "markdown",
     "metadata": {
      "slideshow": {
       "slide_type": "fragment"
      }
     },
     "source": [
      "```\n",
      "button_rec = pygame.Rect(100, 100, 20, 20)\n",
      "button_sq = pygame.Surface([20, 20])\n",
      "main_screen.blit(button_sq, button_rec)\n",
      "```"
     ]
    },
    {
     "cell_type": "markdown",
     "metadata": {
      "slideshow": {
       "slide_type": "subslide"
      }
     },
     "source": [
      "### Flip"
     ]
    },
    {
     "cell_type": "markdown",
     "metadata": {
      "slideshow": {
       "slide_type": "skip"
      }
     },
     "source": [
      "* Redraw the entire window. Very costly, so you shouldn't do this very often."
     ]
    },
    {
     "cell_type": "markdown",
     "metadata": {
      "slideshow": {
       "slide_type": "fragment"
      }
     },
     "source": [
      "```\n",
      "pygame.display.flip()\n",
      "```"
     ]
    },
    {
     "cell_type": "markdown",
     "metadata": {
      "slideshow": {
       "slide_type": "skip"
      }
     },
     "source": [
      "A very basic example of a Pygame program is shown here:"
     ]
    },
    {
     "cell_type": "code",
     "collapsed": false,
     "input": [
      "import pygame\n",
      "import sys\n",
      "\n",
      "# custom classes here\n",
      "\n",
      "\n",
      "# functions not related to classes here\n",
      "\n",
      "\n",
      "# main method\n",
      "if __name__==\"__main__\": \n",
      "    # start the pygame module\n",
      "    pygame.init()\n",
      "    \n",
      "    # the two numbers represent the X and Y window size (in pixels)\n",
      "    main_screen = pygame.display.set_mode((400, 400))\n",
      "    \n",
      "    # set the background color of the window - remember RGB\n",
      "    main_screen.fill((255,255,255))\n",
      "    \n",
      "    # make your rectangles and surfaces here\n",
      "    button_rec = pygame.Rect(100, 100, 20, 20)\n",
      "    button_sq = pygame.Surface([20, 20])\n",
      "    \n",
      "    # blit the button we created at the top here, because it will not change for the rest of the game\n",
      "    # if it will change, blit it inside the game loop\n",
      "    main_screen.blit(button_sq, button_rec)\n",
      "    \n",
      "    # game / event / main loop\n",
      "    while True: \n",
      "        # get the last event that happened\n",
      "        ev = pygame.event.poll()\n",
      "        \n",
      "        # if you clicked the X button to exit the window\n",
      "        if ev.type == pygame.QUIT: \n",
      "            \n",
      "            # close the window\n",
      "            sys.exit()\n",
      "        \n",
      "        # if you clicked down with the mouse\n",
      "        if ev.type == pygame.MOUSEBUTTONDOWN:\n",
      "            # x, y represents the position of the click in the screen\n",
      "            x, y = ev.pos\n",
      "            \n",
      "            # do something with the click\n",
      "            \n",
      "            # check if the position of the click is inside the button\n",
      "            if button_sq.collidepoint(x, y):\n",
      "                print \"you clicked me!\"\n",
      "            \n",
      "        # every game loop, make sure you update the display, but only ONCE AT THE END!\n",
      "        pygame.display.flip()"
     ],
     "language": "python",
     "metadata": {
      "slideshow": {
       "slide_type": "skip"
      }
     },
     "outputs": []
    }
   ],
   "metadata": {}
  }
 ]
}