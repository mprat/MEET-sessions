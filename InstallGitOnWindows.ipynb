{
 "metadata": {
  "name": ""
 },
 "nbformat": 3,
 "nbformat_minor": 0,
 "worksheets": [
  {
   "cells": [
    {
     "cell_type": "markdown",
     "metadata": {},
     "source": [
      "## Installing Git (GitBash) on Windows\n",
      "\n",
      "1. Download and install GitBash from the first link here: http://code.google.com/p/msysgit/downloads/list?q=label:Featured\n",
      "\n",
      "    <img src=\"files/imgs/gitbashdownload.png\" width=400>\n",
      "\n",
      "2. Choose all the defaults when installing (do not change anything unless you REALLY know what you\u2019re doing). Just keep pressing Next.\n",
      "3. Open GitBash from the Start Menu. DO NOT USE GIT GUI. \n",
      "\n",
      "    <img src=\"files/imgs/gitbash.png\" width=400>\n",
      "    <img src=\"files/imgs/gitbashcl.png\" width=400>\n",
      "\n",
      "4. Tell Git about your username and email. Type the following:\n",
      "\n",
      "> git config --global user.name \"YOUR NAME\"\n",
      "\n",
      "> git config --global user.email \"mprat@meet.mit.edu\"\n",
      "\n",
      "Instead of **YOUR NAME** and **mprat@meet.mit.edu**, write your own name and your own (personal) email address."
     ]
    },
    {
     "cell_type": "markdown",
     "metadata": {},
     "source": [
      "## Using Git on Windows\n",
      "\n",
      "When you need to use Git, open GitBash. This is a terminal exactly like we use on the Ubuntu machines. `cd` onto the Desktop and `git clone` your repository so you have the files. The difference is that you can't run `ipython notebook` or `idle` or `python` from GitBash - you need to use the Windows cmd as described in the other document."
     ]
    }
   ],
   "metadata": {}
  }
 ]
}