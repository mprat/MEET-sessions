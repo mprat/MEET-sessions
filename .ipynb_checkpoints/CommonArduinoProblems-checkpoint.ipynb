{
 "metadata": {
  "name": ""
 },
 "nbformat": 3,
 "nbformat_minor": 0,
 "worksheets": [
  {
   "cells": [
    {
     "cell_type": "markdown",
     "metadata": {},
     "source": [
      "## Common Problems ##\n",
      "\n",
      "* COM port doesn't exist. The text shows up something like this: \n",
      "\n",
      "INSERT PICTURE HERE\n",
      "\n",
      "The solution: unplug and re-plug the USB cable."
     ]
    }
   ],
   "metadata": {}
  }
 ]
}