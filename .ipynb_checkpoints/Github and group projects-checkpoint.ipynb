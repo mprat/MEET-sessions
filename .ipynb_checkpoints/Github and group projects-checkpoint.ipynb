{
 "metadata": {
  "name": ""
 },
 "nbformat": 3,
 "nbformat_minor": 0,
 "worksheets": [
  {
   "cells": [
    {
     "cell_type": "markdown",
     "metadata": {},
     "source": [
      "## Github and group projects\n",
      "\n",
      "* Your main project repository lives on the meet-projects group on Github (each group got their own URL - if you forget, go to [http://github.com/meet-projects](http://github.com/meet-projects) and find your project.\n",
      "* To copy your project files, do \n",
      "```\n",
      "git clone http://github.com/meet-projects/YOUR_PROJECT_NAME\n",
      "```\n",
      "in the terminal\n",
      "* When you are done:\n",
      "```\n",
      "git add --all\n",
      "git commit -am \"a comment about what you did\"\n",
      "git pull\n",
      "git push \n",
      "```\n",
      "* Important that when you push, you LOOK AT THE MESSAGE. If it says FAILED or CONFLICT, call over an instructor or TA to fix it."
     ]
    }
   ],
   "metadata": {}
  }
 ]
}